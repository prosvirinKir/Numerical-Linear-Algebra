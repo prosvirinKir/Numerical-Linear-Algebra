{
  "cells": [
    {
      "cell_type": "markdown",
      "metadata": {
        "id": "view-in-github",
        "colab_type": "text"
      },
      "source": [
        "<a href=\"https://colab.research.google.com/github/prosvirinKir/Numerical-Linear-Algebra/blob/main/NLA_HW3_ProsvirinKV.ipynb\" target=\"_parent\"><img src=\"https://colab.research.google.com/assets/colab-badge.svg\" alt=\"Open In Colab\"/></a>"
      ]
    },
    {
      "cell_type": "markdown",
      "metadata": {
        "id": "CfZo8UMQ_7NC"
      },
      "source": [
        "# Problem set 3 (90 pts)\n",
        "\n",
        "## Important note: the template for your solution filename is Name_Surname_PS3.ipynb\n",
        "\n",
        "### The correct answer to the bonus question can be used as an additional reason to increase the final grade in the border case"
      ]
    },
    {
      "cell_type": "markdown",
      "metadata": {
        "id": "ZI2ShpMq_7NE"
      },
      "source": [
        "## Problem 1 (25 pts)\n",
        "\n",
        "- (5 pts) Prove that $\\mathrm{vec}(AXB) = (B^\\top \\otimes A)\\, \\mathrm{vec}(X)$ if $\\mathrm{vec}(X)$ is a columnwise reshape of a matrix into a long vector. What does it change if the reshape is rowwise? \n",
        "\n",
        "**Note:** To make a columnwise reshape in Python one should use ```np.reshape(X, order='f')```, where the string ```'f'``` stands for the Fortran ordering. \n",
        "\n",
        "- (2 pts) What is the complexity of a naive computation of $(A \\otimes B) x$? Show how it can be reduced.\n",
        "\n",
        "- (3 pts) Let matrices $A$ and $B$ have eigendecompositions $A = S_A\\Lambda_A S_A^{-1}$ and $B = S_B\\Lambda_B S^{-1}_B$. Find eigenvectors and eigenvalues of the matrix $A\\otimes I + I \\otimes B$, where dimension of $I$ coincides with the dimension of $A$ and $B$.\n",
        "\n",
        "\n",
        "- (10 pts) Let $A = \\mathrm{diag}\\left(\\frac{1}{1000},\\frac{2}{1000},\\dots \\frac{999}{1000}, 1, 1000 \\right)$. Estimate analytically the number of iterations required  to solve linear system with $A$ with the relative accuracy $10^{-4}$ using\n",
        "    - Richardson iteration with the optimal choice of parameter (use $2$-norm)\n",
        "    - Chebyshev iteration (use $2$-norm)\n",
        "    - Conjugate gradient method (use $A$-norm).\n",
        "    \n",
        "- (5 pts) Provide numerical confirmation of your estimate from theoretical point of view"
      ]
    },
    {
      "cell_type": "code",
      "execution_count": null,
      "metadata": {
        "id": "mON0iR8j_7NF"
      },
      "outputs": [],
      "source": [
        "# Your solution is here"
      ]
    },
    {
      "cell_type": "markdown",
      "metadata": {
        "id": "K8VzZFQBq9j-"
      },
      "source": [
        "## Problem 1 (25 pts)\n",
        "\n",
        "- (5 pts) Prove that $\\mathrm{vec}(AXB) = (B^\\top \\otimes A)\\, \\mathrm{vec}(X)$ if $\\mathrm{vec}(X)$ is a columnwise reshape of a matrix into a long vector. What does it change if the reshape is rowwise? \n",
        "\n",
        "**Note:** To make a columnwise reshape in Python one should use ```np.reshape(X, order='f')```, where the string ```'f'``` stands for the Fortran ordering. \n",
        "\n",
        "Let $\\mathbf{B}=\\left[\\begin{array}{ccc}{b}_{1} & {b}_{2} \\cdots & {b}_{n}\\end{array}\\right]$ (of size $m \\times n$ ) and $\\mathbf{X}=\\left[x_{1} x_{2} \\cdots x_{m}\\right]$. \n",
        "\n",
        "Then, the $k$-th column of $\\mathbf{A X B}$ is\n",
        "$$\n",
        "\\begin{aligned}\n",
        "({A} {X} {B})_{:, k} &={A} {X} {b}_{k}={A} \\sum_{i=1}^{m} {x}_{i} b_{i, k} =\n",
        "\\left[\n",
        "    b_{1, k} {A} b_{2 . k} {A} \\cdots b_{m, k} {A}\n",
        "\\right]\n",
        "\\underbrace{\\left[\n",
        "    \\begin{array}{c}\n",
        "    {x}_{1} \\\\\n",
        "    {x}_{2} \\\\\n",
        "    \\vdots \\\\\n",
        "    {x}_{m}\n",
        "    \\end{array}\n",
        "\\right]}_{\\operatorname{vec}({\\mathbf{X}})}= \\\\\n",
        "&=(\\underbrace{\\left[b_{1, k}, b_{2, k}, \\ldots, b_{m, k}\\right]}_{{b}_{k}^{T}} \\otimes {A}) \\operatorname{vec}(\\mathbf{X})\n",
        "\\end{aligned}\n",
        "$$\n",
        "Stacking the columns together\n",
        "$$\n",
        "\\begin{aligned}\n",
        "\\operatorname{vec}(\\boldsymbol{A} \\boldsymbol{X} \\boldsymbol{B}) &=\\left[\\begin{array}{c}\n",
        "(\\boldsymbol{A} \\boldsymbol{X} \\boldsymbol{B})_{:, 1} \\\\\n",
        "(\\boldsymbol{A} \\boldsymbol{X} \\boldsymbol{B})_{:, 2} \\\\\n",
        "\\vdots \\\\\n",
        "(\\boldsymbol{A} \\boldsymbol{X} \\boldsymbol{B})_{:, n}\n",
        "\\end{array}\\right]=\\left[\\begin{array}{c}\n",
        "\\boldsymbol{b}_{1}^{T} \\otimes \\boldsymbol{A} \\\\\n",
        "\\boldsymbol{b}_{2}^{T} \\otimes \\boldsymbol{A} \\\\\n",
        "\\vdots \\\\\n",
        "\\boldsymbol{b}_{n}^{T} \\otimes \\boldsymbol{A}\n",
        "\\end{array}\\right] \\operatorname{vec}(\\boldsymbol{X})=\\left(\\boldsymbol{B}^{T} \\otimes \\boldsymbol{A}\\right) \\operatorname{vec}(\\boldsymbol{X})\n",
        "\\end{aligned}\n",
        "$$\n",
        "$$$$\n",
        "In case of rows we have:\n",
        "$(AXB)_k = (a_kX)B = \\sum_{i=1}^{m} a_{ki} x_i \\cdot B = \\sum_{i=1}^{m} x_i (a_{ki} B) = vec(X) \\cdot ([a_{k1}, \\ldots, a_{km}] \\otimes B) = vec(X) \\cdot (A_k^{T} \\otimes B) \\Longrightarrow \\mathrm{vec}(AXB) = vec(X) \\cdot (A^{T} \\otimes B)$"
      ]
    },
    {
      "cell_type": "code",
      "metadata": {
        "id": "4s4yE_0NvC1J"
      },
      "source": [
        ""
      ],
      "execution_count": null,
      "outputs": []
    },
    {
      "cell_type": "code",
      "metadata": {
        "id": "L0mVdAfIvC65"
      },
      "source": [
        ""
      ],
      "execution_count": null,
      "outputs": []
    },
    {
      "cell_type": "markdown",
      "metadata": {
        "id": "2d_0Y4iEvDhx"
      },
      "source": [
        "\n",
        "\n",
        "- (2 pts) What is the complexity of a naive computation of $(A \\otimes B) x$? Show how it can be reduced.\n",
        "\n",
        "Since $A \\in \\mathbb{R}_{n \\times m}$, \n",
        "$B \\in \\mathbb{R}_{k \\times l}, \n",
        "X \\in \\mathbb{R}_{l \\times m},\n",
        "x \\in \\mathbb{R}_{lm \\times 1}\n",
        "\\Longrightarrow $ shape of $ A \\otimes B $ is $ nk\\times ml $\n",
        "\n",
        "Therefore, complexity of $(A \\otimes B)x$ is $\\mathcal{O}(nkml)$.\n",
        "$$$$\n",
        "\n",
        "To reduce the complexity we can use results from previous task:\n",
        "$ (A \\otimes B) \\mbox{vec}(X) = \\mbox{vec}(BXA^T) $,\n",
        "\n",
        "where $ \\mathrm{vec(\\mathbf{X})} \\in \\mathbb{R}_{lm \\times 1}$.\n",
        "\n",
        "So, $(A \\otimes B) x=(A \\otimes B) \\operatorname{vec}(x)=\\operatorname{vec}\n",
        "\\left(B \\operatorname{vec}^{-1}(x) A^{T}\\right)$, where $v e c^{-1}$ is an inverse transformation from vector to matrix. And the complexity is just $\\mathcal{O}(klm+mkn) $\n",
        "\n"
      ]
    },
    {
      "cell_type": "code",
      "metadata": {
        "id": "122zMyHVC6PV"
      },
      "source": [
        ""
      ],
      "execution_count": null,
      "outputs": []
    },
    {
      "cell_type": "code",
      "metadata": {
        "id": "c-DCWEVIC6UM"
      },
      "source": [
        ""
      ],
      "execution_count": null,
      "outputs": []
    },
    {
      "cell_type": "markdown",
      "metadata": {
        "id": "aQ1p9P3YC6gq"
      },
      "source": [
        "- (3 pts) Let matrices $A$ and $B$ have eigendecompositions $A = S_A\\Lambda_A S_A^{-1}$ and $B = S_B\\Lambda_B S^{-1}_B$. Find eigenvectors and eigenvalues of the matrix $A\\otimes I + I \\otimes B$, where dimension of $I$ coincides with the dimension of $A$ and $B$.\n",
        "\n",
        "From lectures we know some Kron product roperties:\n",
        "1. $A \\otimes (B + C) = (A \\otimes B) + (A \\otimes C)$\n",
        "2. $(A \\otimes B)(C \\otimes D) = (AC \\otimes BD)$\n",
        "\n",
        "\n",
        "$$\n",
        "A \\otimes I+I \\otimes B=S_{A} \\Lambda_{A} S_{A}^{-1} \\otimes I+I \\otimes S_{B} \\Lambda_{B} S_{B}^{-1}=S_{A} \\Lambda_{A} S_{A}^{-1} \\otimes S_{B} S_{B}^{-1}+S_{A} S_{A}^{-1} \\otimes S_{B} \\Lambda_{B} S_{B}^{-1}=\\left(S_{A} \\Lambda_{A} \\otimes S_{B}+S_{A} \\otimes S_{B} \\Lambda_{B}\\right)\\left(S_{A}^{-1} \\otimes S_{B}^{-1}\\right)=\\left(S_{A} \\otimes S_{B}\\right)\\left(\\Lambda_{A}\\otimes I+I \\otimes \\Lambda_{B}\\right)\\left(S_{A}^{-1} \\otimes S_{B}^{-1}\\right)=\\left(S_{A} \\otimes S_{B}\\right)\\left(\\Lambda_{A} \\otimes I+I \\otimes \\Lambda_{B}\\right)\\left(S_{A} \\otimes S_{B}\\right)^{-1}\n",
        "$$\n",
        "\n",
        "So, we have \n",
        "\\begin{array}{l}\n",
        "\\text { So, } A \\otimes I+I \\otimes B=\\left(S_{A} \\otimes S_{B}\\right)\\left(\\Lambda_{A} \\otimes I+I \\otimes \\Lambda_{B}\\right)\\left(S_{A} \\otimes S_{B}\\right)^{-1}=S \\Lambda S^{-1}\n",
        "\\end{array}\n",
        "\n",
        "Hince, eigenvectors of the given matrix are the columns in matrix $S=S_{A} \\otimes S_{B}$ and the eigenvalues are $\\lambda_{A}^{i}+\\lambda_{B}^{j}$ for $1 \\leq i \\leq n, 1 \\leq j \\leq n$\n"
      ]
    },
    {
      "cell_type": "code",
      "metadata": {
        "id": "yggCCl_7Qhab"
      },
      "source": [
        ""
      ],
      "execution_count": null,
      "outputs": []
    },
    {
      "cell_type": "code",
      "metadata": {
        "id": "S-72h-nyQhfR"
      },
      "source": [
        ""
      ],
      "execution_count": null,
      "outputs": []
    },
    {
      "cell_type": "markdown",
      "metadata": {
        "id": "jSthjyvAQhtR"
      },
      "source": [
        "\n",
        "\n",
        "\n",
        "- (10 pts) Let $A = \\mathrm{diag}\\left(\\frac{1}{1000},\\frac{2}{1000},\\dots \\frac{999}{1000}, 1, 1000 \\right)$. Estimate analytically the number of iterations required  to solve linear system with $A$ with the relative accuracy $10^{-4}$ using\n",
        "    - Richardson iteration with the optimal choice of parameter (use $2$-norm)\n",
        "    - Chebyshev iteration (use $2$-norm)\n",
        "    - Conjugate gradient method (use $A$-norm).\n",
        "    \n",
        "- (5 pts) Provide numerical confirmation of your estimate from theoretical point of view\n",
        "\n",
        "**Richardson**\n",
        "\n",
        "From the lectures we know that $||e_k||_2 \\leq q^k ||e_0||_2 $, \n",
        "where $q = \\frac{cond(A)-1}{cond(A)+1}$\n",
        "\n",
        "Relative accuracy is $\\varepsilon = \\frac{||e_k||_2}{||e_0||_2} = 10^{-4}$ then we get that $\\left(\\frac{10^6-1}{10^6+1}\\right)^k = 10^{-4}$, hince $k \\geq 4605000$.\n",
        "$$$$\n",
        "\n",
        "**Chebyshev**\n",
        "    \n",
        "Relative accuracy is  $\\varepsilon = \\frac{||e_k||_2}{||e_0||_2} = 10^{-4}$\n",
        "then we get that \n",
        "$(\\frac{10^3-1}{10^3+1})^k = 10^{-4}$, hince $k \\geq 4606$.\n",
        "$$$$\n",
        "\n",
        "**Conjugate gradient**\n",
        "\n",
        "$\n",
        "\\frac{\\|x_k - x_* \\|_A}{\\| x_* \\|_A} \\leq 2 \\Big( \\frac{\\sqrt{\\mbox{cond}(A)} - 1}{\\sqrt{\\mbox{cond}(A)} + 1} \\Big)^k $\n",
        "\n",
        "$ -4 \\leq \\log{2 \\left( \\frac{999}{1001} \\right)^k }= \\log 2 + \n",
        " \\log{\\frac{999}{1001}} $\n",
        "\n",
        "$ -4 - \\log 2 \\leq k \\log\\frac{999}{1001} $\n",
        "\n",
        "$k \\geq \\frac{-4 \\log 2}{\\log\\frac{999}{1001}}  = 4952$\n",
        "\n"
      ]
    },
    {
      "cell_type": "markdown",
      "metadata": {
        "id": "yQrYyZ2dwQtf"
      },
      "source": [
        ""
      ]
    },
    {
      "cell_type": "code",
      "metadata": {
        "id": "UT7ZH5i1wPdx"
      },
      "source": [
        "import numpy as np\n",
        "import time\n",
        "import matplotlib.pyplot as plt\n",
        "from tqdm import tqdm\n",
        "%matplotlib inline"
      ],
      "execution_count": null,
      "outputs": []
    },
    {
      "cell_type": "code",
      "metadata": {
        "id": "5vlXTPObq9j_"
      },
      "source": [
        "# Your solution is here"
      ],
      "execution_count": null,
      "outputs": []
    },
    {
      "cell_type": "code",
      "metadata": {
        "id": "cb8CDWAnvC_C"
      },
      "source": [
        "# Alexandr sad that we can use CG from scipy"
      ],
      "execution_count": null,
      "outputs": []
    },
    {
      "cell_type": "code",
      "metadata": {
        "id": "saSb5I15r08K"
      },
      "source": [
        "A = np.diagflat([i / 1000 for i in range(1, 1001)]+[1000])\n",
        "l_max = 1000\n",
        "l_min = 0.001\n",
        "tau = 2.0/(l_max + l_min)"
      ],
      "execution_count": null,
      "outputs": []
    },
    {
      "cell_type": "code",
      "metadata": {
        "id": "vemYdaAB4Khx"
      },
      "source": [
        "def richardson(A, num_iters, tau):\n",
        "    res = []\n",
        "    x = np.zeros(A.shape[1])\n",
        "    for i in tqdm(range(num_iters)): \n",
        "        err = A.dot(x) - np.ones(A.shape[1])\n",
        "        x = x - tau * err\n",
        "        res.append(np.linalg.norm(err / err_0))\n",
        "        if np.linalg.norm(err) < 1e-4:\n",
        "            return res\n",
        "    return res"
      ],
      "execution_count": null,
      "outputs": []
    },
    {
      "cell_type": "code",
      "metadata": {
        "id": "oqlROSzu4Koy"
      },
      "source": [
        "res_richardson = richardson(A, 4605170, tau)"
      ],
      "execution_count": null,
      "outputs": []
    },
    {
      "cell_type": "code",
      "metadata": {
        "colab": {
          "base_uri": "https://localhost:8080/",
          "height": 506
        },
        "id": "Q0-fqZEt4Kvp",
        "outputId": "32b552d3-f20f-4e66-dca9-5edc462492f2"
      },
      "source": [
        "plt.figure(figsize=(10, 8))\n",
        "plt.semilogy(res_richardson, color='red', label=f'Richardson, num_iter={len(res_richardson)}')\n",
        "plt.xlabel(\"Number of iterations\", fontsize=10)\n",
        "plt.ylabel(\"'$||Ax_k - b||_2$'\", fontsize=10)\n",
        "plt.xticks(fontsize=20)\n",
        "plt.yticks(fontsize=20)\n",
        "plt.grid()\n",
        "plt.show()"
      ],
      "execution_count": null,
      "outputs": [
        {
          "output_type": "display_data",
          "data": {
            "image/png": "[encoded data removed]",
            "text/plain": [
              "<Figure size 720x576 with 1 Axes>"
            ]
          },
          "metadata": {
            "needs_background": "light"
          }
        }
      ]
    },
    {
      "cell_type": "code",
      "metadata": {
        "id": "xOaZjfe_4K5q"
      },
      "source": [
        ""
      ],
      "execution_count": null,
      "outputs": []
    },
    {
      "cell_type": "code",
      "metadata": {
        "id": "hlKn4a9l6C8A"
      },
      "source": [
        ""
      ],
      "execution_count": null,
      "outputs": []
    },
    {
      "cell_type": "code",
      "metadata": {
        "id": "hBqnp69t6DRO"
      },
      "source": [
        "num_iters = 8192 # Actually, we got 4606, but we want power of two, that's why 8192\n",
        "roots = [np.cos((np.pi * (2 * i + 1)) / (2 * num_iters)) for i in range(num_iters)]\n",
        "taus = [(l_max + l_min - (l_min - l_max) * r) / 2 for r in roots]\n",
        "x = np.zeros(A.shape[1])\n",
        "result = A.dot(x) - np.ones(A.shape[1])\n",
        "Chebyshev_list = [np.linalg.norm(result)]\n",
        "\n",
        "# Implementation may be non-optimal if number of iterations is not power of two\n",
        "def good_shuffle(idx):\n",
        "    if len(idx) == 1:\n",
        "        return idx\n",
        "    else:\n",
        "        new_len = int(np.ceil((len(idx) / 2)))\n",
        "        new_idx = good_shuffle(idx[:new_len])\n",
        "        res_perm = []\n",
        "        perm_count = 0\n",
        "        for i in new_idx:\n",
        "            res_perm.append(i)\n",
        "            perm_count += 1\n",
        "            if perm_count == len(idx):\n",
        "                break\n",
        "            res_perm.append(len(idx) + 1 - i)\n",
        "            perm_count += 1\n",
        "            if perm_count == len(idx):\n",
        "                break\n",
        "        return res_perm\n",
        "\n",
        "# we do permutation in order to the method will be stable, because the norm of the product should be small\n",
        "good_perm = good_shuffle([i for i in range(1, num_iters+1)])\n",
        "\n",
        "for i in range(num_iters):\n",
        "    x = x - 1.0/taus[good_perm[i] - 1] * result\n",
        "    result = A.dot(x) - np.ones(A.shape[1])\n",
        "    Chebyshev_list.append(np.linalg.norm(result))\n",
        "    if np.linalg.norm(result) < 1e-4:\n",
        "        break"
      ],
      "execution_count": null,
      "outputs": []
    },
    {
      "cell_type": "code",
      "metadata": {
        "colab": {
          "base_uri": "https://localhost:8080/",
          "height": 498
        },
        "id": "1YQplME16y9d",
        "outputId": "faf34986-3413-4ec1-bcc0-7117f2ac0224"
      },
      "source": [
        "plt.figure(figsize=(10, 8))\n",
        "\n",
        "plt.semilogy(Chebyshev_list, color='red', label=f'Chebyshev, num_iter={len(Chebyshev_list)}')\n",
        "plt.ylabel(\"'$||Ax_k - b||_2$'\")\n",
        "plt.xlabel(\"num_iter\")\n",
        "\n",
        "plt.legend()\n",
        "plt.grid()\n",
        "plt.show()"
      ],
      "execution_count": null,
      "outputs": [
        {
          "output_type": "display_data",
          "data": {
            "image/png": "[encoded data removed]",
            "text/plain": [
              "<Figure size 720x576 with 1 Axes>"
            ]
          },
          "metadata": {
            "needs_background": "light"
          }
        }
      ]
    },
    {
      "cell_type": "code",
      "metadata": {
        "id": "E2RbW-EF6zD8"
      },
      "source": [
        ""
      ],
      "execution_count": null,
      "outputs": []
    },
    {
      "cell_type": "code",
      "metadata": {
        "id": "gAb7mS4Y6zLH"
      },
      "source": [
        "import scipy.sparse.linalg"
      ],
      "execution_count": null,
      "outputs": []
    },
    {
      "cell_type": "code",
      "metadata": {
        "id": "O3w6mu8N4LAC"
      },
      "source": [
        ""
      ],
      "execution_count": null,
      "outputs": []
    },
    {
      "cell_type": "code",
      "metadata": {
        "id": "WsVGr_XGJAAx"
      },
      "source": [
        "cg_list = []\n",
        "b = np.random.randn(A.shape[0])\n",
        "x, info = scipy.sparse.linalg.cg(A, b, x0=b, tol=1e-4, callback=lambda x: cg_list.append(np.linalg.norm(A @ x - b) / np.linalg.norm(b)))"
      ],
      "execution_count": null,
      "outputs": []
    },
    {
      "cell_type": "code",
      "metadata": {
        "colab": {
          "base_uri": "https://localhost:8080/",
          "height": 498
        },
        "id": "b1Cgb_aj8plq",
        "outputId": "f1161d44-be66-43ac-b26d-e26ae9715463"
      },
      "source": [
        "plt.figure(figsize=(10, 8))\n",
        "\n",
        "plt.semilogy(cg_list, color='red', label=f'CG, num_iter={len(cg_list)}')\n",
        "plt.ylabel(\"'$||Ax_k - b||_2$'\")\n",
        "plt.xlabel(\"num_iter\")\n",
        "\n",
        "plt.legend()\n",
        "plt.grid()\n",
        "plt.show()"
      ],
      "execution_count": null,
      "outputs": [
        {
          "output_type": "display_data",
          "data": {
            "image/png": "[encoded data removed]",
            "text/plain": [
              "<Figure size 720x576 with 1 Axes>"
            ]
          },
          "metadata": {
            "needs_background": "light"
          }
        }
      ]
    },
    {
      "cell_type": "markdown",
      "metadata": {
        "id": "dh0nKsm46hpo"
      },
      "source": [
        "## Problem 2 (65 pts)\n",
        "### On the performance of conjugate gradient method for BTTB matrices.\n",
        "\n",
        "You are given 2D image (QR-code) and convolution operator $T$. The application of $T$ results in smoothing of the image. In exact arithmetic, the proposed $T$ is non-singular. However, it becomes rather ill-conditioned with increasing $N$ in finite precision arithmetic. In this task you need to study how the conjugate gradient method performs in this case."
      ]
    },
    {
      "cell_type": "markdown",
      "metadata": {
        "id": "3gi5DJJz6hps"
      },
      "source": [
        "The original passcode is given below:"
      ]
    },
    {
      "cell_type": "code",
      "execution_count": null,
      "metadata": {
        "id": "mxPusfbx6hps",
        "outputId": "f94a359a-7c28-417e-fa4d-b99ca107c5b7",
        "colab": {
          "base_uri": "https://localhost:8080/",
          "height": 265
        }
      },
      "outputs": [
        {
          "output_type": "execute_result",
          "data": {
            "text/plain": [
              "(-0.5, 329.5, 329.5, -0.5)"
            ]
          },
          "metadata": {},
          "execution_count": 41
        },
        {
          "output_type": "display_data",
          "data": {
            "image/png": "[encoded data removed]",
            "text/plain": [
              "<Figure size 432x288 with 1 Axes>"
            ]
          },
          "metadata": {
            "needs_background": "light"
          }
        }
      ],
      "source": [
        "# import matplotlib.pyplot as plt\n",
        "# x = plt.imread('qrcode.gif')[:,:,0]\n",
        "# n = x.shape[0]\n",
        "# plt.imshow(x, cmap=\"gray\")\n",
        "# plt.axis(\"off\")"
      ]
    },
    {
      "cell_type": "markdown",
      "metadata": {
        "id": "uHzqVBAK6hpu"
      },
      "source": [
        "Blurring can be performed by convolving $n\\times n$ QR-code with the following filter:\n",
        "\n",
        "$$T_{i_1j_1,i_2j_2} = T_{i_1-j_1,i_2-j_2} = \\frac{\\alpha}{\\pi}e^{-\\alpha[(i_1-j_1)^2 + (i_2-j_2)^2]}, \\quad i_1,j_1,i_2,j_2 = 1 \\ldots n, \\quad 1 > \\alpha > 0.$$\n",
        "\n",
        "You know from lectures that this convolution can be viewed as a matrix-vector multiplication of some BTTB matrix $T$ of size $n^2 \\times n^2$."
      ]
    },
    {
      "cell_type": "markdown",
      "metadata": {
        "id": "nQSQVkG86hpu"
      },
      "source": [
        "## Task 1 (15 pts) \n",
        "\n",
        "- Write function `T_matvec()` that performs multiplication of $T$ by a given vector $x$ efficiently. Remember about FFT.\n",
        "- Use `scipy.sparse.linalg.LinearOperator` to create an object that has attribute `.dot()` (this object will be further used in the iterative process). Note that `.dot()` input and output must be 1D vectors, so do not forget to use reshape."
      ]
    },
    {
      "cell_type": "code",
      "source": [
        "import numpy as np\n",
        "from scipy.fft import fft2, ifft2\n",
        "import scipy.sparse.linalg as spla"
      ],
      "metadata": {
        "id": "zw3TdCmZNOdn"
      },
      "execution_count": null,
      "outputs": []
    },
    {
      "cell_type": "code",
      "execution_count": null,
      "metadata": {
        "id": "SKiL6Iky6hpv"
      },
      "outputs": [],
      "source": [
        "\n",
        "def T_matvec(x, alpha):\n",
        "    n = int(x.shape[0]**0.5)\n",
        "    x_full = np.zeros((2*n, 2*n))\n",
        "    x_full[:n, :n] = x.reshape(n, n)\n",
        "\n",
        "    t = np.exp(-alpha * np.array(list(range(n)) + [0] + list(range(n - 1, 0, -1)))**2)\n",
        "    T = t[:, None] @ t[None, :]\n",
        "\n",
        "    y = alpha / np.pi * ifft2(fft2(T) * fft2(x_full))[:n,:n]\n",
        "\n",
        "    return y.real.reshape(1, -1)\n",
        "    \n",
        "\n",
        "\n",
        "n = x.shape[0]\n",
        "alpha = 0.1\n",
        "T = spla.LinearOperator((n**2, n**2), matvec = lambda x : T_matvec(x, alpha))\n",
        "# your code is here"
      ]
    },
    {
      "cell_type": "code",
      "source": [
        "plt.imshow(T.dot(x.reshape(-1)).reshape(n, n), cmap=\"gray\")\n",
        "plt.axis(\"off\")"
      ],
      "metadata": {
        "colab": {
          "base_uri": "https://localhost:8080/",
          "height": 265
        },
        "id": "AgaYoQTwN5c5",
        "outputId": "e89b71ac-45b3-416c-a505-97f1165e154c"
      },
      "execution_count": null,
      "outputs": [
        {
          "output_type": "execute_result",
          "data": {
            "text/plain": [
              "(-0.5, 329.5, 329.5, -0.5)"
            ]
          },
          "metadata": {},
          "execution_count": 93
        },
        {
          "output_type": "display_data",
          "data": {
            "image/png": "[encoded data removed]",
            "text/plain": [
              "<Figure size 432x288 with 1 Axes>"
            ]
          },
          "metadata": {
            "needs_background": "light"
          }
        }
      ]
    },
    {
      "cell_type": "code",
      "source": [
        "x.shape"
      ],
      "metadata": {
        "colab": {
          "base_uri": "https://localhost:8080/"
        },
        "id": "LkKE7GOiPoqG",
        "outputId": "befbe1cd-3df1-474b-b19b-056e863f4127"
      },
      "execution_count": null,
      "outputs": [
        {
          "output_type": "execute_result",
          "data": {
            "text/plain": [
              "(330, 330)"
            ]
          },
          "metadata": {},
          "execution_count": 57
        }
      ]
    },
    {
      "cell_type": "code",
      "source": [
        ""
      ],
      "metadata": {
        "id": "YEFjh9ORO_W-"
      },
      "execution_count": null,
      "outputs": []
    },
    {
      "cell_type": "markdown",
      "metadata": {
        "id": "Vpj3Llkc6hpv"
      },
      "source": [
        "**Remark.** The obtained matrix $T$ is positive definite (at least in the exact arithmetic), hence the conjugate gradient method can be applied to solve with $T$.\n",
        "\n",
        "**Bonus question: Prove the remark above.**"
      ]
    },
    {
      "cell_type": "markdown",
      "metadata": {
        "id": "fyoFYerG6hpw"
      },
      "source": [
        "## Task 2 (10 pts) \n",
        "- For $\\alpha \\in \\{ 0.1, 0.01,0.001\\}$ compute $y=Tx$ and deconvolve $x$ using `scipy.sparse.linalg.cg` with $tol \\in \\{10^{-3}, 10^{-4}, 10^{-5}, 10^{-6}, 10^{-7}\\}$. For each pair $\\alpha$, $tol$ write out `num_iters` and relative error $e = \\frac{\\|x - x^*\\|_2}{\\|x\\|_2}$ .\n",
        "- Comment on the results: \n",
        "\n",
        "    1) why the relative error does not converge to zero? \n",
        "    \n",
        "    2) why the relative error converges to different values for different $\\alpha$?"
      ]
    },
    {
      "cell_type": "code",
      "source": [
        "from scipy.sparse.linalg import cg"
      ],
      "metadata": {
        "id": "UHF-CV7TWlpn"
      },
      "execution_count": null,
      "outputs": []
    },
    {
      "cell_type": "code",
      "execution_count": null,
      "metadata": {
        "id": "1ZziAoPv6hpw",
        "colab": {
          "base_uri": "https://localhost:8080/"
        },
        "outputId": "ac396df6-2d70-45f0-b780-3c475bf5572d"
      },
      "outputs": [
        {
          "output_type": "stream",
          "name": "stdout",
          "text": [
            "alpha: 0.1\n",
            "\ttol: 0.001\n",
            "\t num_iter = 11, e = 0.12847145208381072\n",
            "\ttol: 0.0001\n",
            "\t num_iter = 46, e = 0.1019143136108824\n",
            "\ttol: 1e-05\n",
            "\t num_iter = 136, e = 0.09586763786282956\n",
            "\ttol: 1e-06\n",
            "\t num_iter = 788, e = 0.07218294984063495\n",
            "\ttol: 1e-07\n",
            "\t num_iter = 2419, e = 0.06672488966988452\n",
            "alpha: 0.01\n",
            "\ttol: 0.001\n",
            "\t num_iter = 18, e = 0.2151919309181166\n",
            "\ttol: 0.0001\n",
            "\t num_iter = 53, e = 0.20193916147302193\n",
            "\ttol: 1e-05\n",
            "\t num_iter = 168, e = 0.1971795196159429\n",
            "\ttol: 1e-06\n",
            "\t num_iter = 542, e = 0.19494860287635443\n",
            "\ttol: 1e-07\n",
            "\t num_iter = 2355, e = 0.18986861502547475\n",
            "alpha: 0.001\n",
            "\ttol: 0.001\n",
            "\t num_iter = 13, e = 0.43627179661633736\n",
            "\ttol: 0.0001\n",
            "\t num_iter = 49, e = 0.41985444641893716\n",
            "\ttol: 1e-05\n",
            "\t num_iter = 159, e = 0.40010636299158153\n",
            "\ttol: 1e-06\n",
            "\t num_iter = 514, e = 0.3804794506411201\n",
            "\ttol: 1e-07\n",
            "\t num_iter = 1461, e = 0.36964508437729\n"
          ]
        }
      ],
      "source": [
        "# your code is here\n",
        "alpha_arr = [0.1, 0.01, 0.001]\n",
        "tol_arr = [1e-3, 1e-4, 1e-5, 1e-6, 1e-7]\n",
        "\n",
        "\n",
        "for a in alpha_arr:\n",
        "  print(f'alpha: {a}')\n",
        "  for tol in tol_arr:\n",
        "    print(f'\\ttol: {tol}')\n",
        "    cg_list = []\n",
        "    T = spla.LinearOperator((n**2, n**2), matvec = lambda x : T_matvec(x, a))\n",
        "    y = T.dot(x.reshape(-1))\n",
        "    out = cg(T, y, tol=tol, maxiter=3000, callback=lambda ans: cg_list.append(np.linalg.norm(ans - x.reshape(-1)) / np.linalg.norm(x)))\n",
        "    print(f'\\t num_iter = {len(cg_list)}, e = {cg_list[-1]}')\n",
        "\n"
      ]
    },
    {
      "cell_type": "markdown",
      "source": [
        "The only reason it does not converge on a computer are round-off errors, in particular if the condition number of the matrix is large. In other words, matrix is ill-conditioned matrix."
      ],
      "metadata": {
        "id": "xLAbg7Cq47ok"
      }
    },
    {
      "cell_type": "code",
      "source": [
        ""
      ],
      "metadata": {
        "id": "g30rXAPGY7ej"
      },
      "execution_count": null,
      "outputs": []
    },
    {
      "cell_type": "markdown",
      "metadata": {
        "id": "lJ4XOLfw6hpx"
      },
      "source": [
        "In all further tasks fix $\\alpha = 0.01$. Compute $y = Tx$, and add vector with Gaussian noise from $\\mathcal{N}(0, 1)$ to $y$ and get the final right-hand side $\\hat{y}$.\n",
        "\n",
        "## Task 3 (10 pts)\n",
        "- Try to deconvolve $\\hat{y}$ with matrix $T$ using $tol=10^{-5}$ in CG. Explain, why CG does not converge.\n",
        "- Suggest how CG can still be used to recover $x$. What are drawbacks of the suggested approach?"
      ]
    },
    {
      "cell_type": "code",
      "execution_count": null,
      "metadata": {
        "id": "JzT0Wfzl6hpx",
        "colab": {
          "base_uri": "https://localhost:8080/"
        },
        "outputId": "43cbd1e3-1fad-4cb6-830f-a2931d1ee8b5"
      },
      "outputs": [
        {
          "output_type": "stream",
          "name": "stdout",
          "text": [
            "\t num_iter = 3000, e = 11863386.072441658\n"
          ]
        }
      ],
      "source": [
        "# your code is here\n",
        "alpha = 0.01\n",
        "tol = 1e-5\n",
        "cg_list = []\n",
        "T = spla.LinearOperator((n**2, n**2), matvec = lambda x : T_matvec(x, alpha))\n",
        "y = T.dot(x.reshape(-1))\n",
        "y_hat = y + np.random.randn(y.shape[0])\n",
        "\n",
        "out = cg(T, y_hat, tol=tol, maxiter=3000, callback=lambda ans: cg_list.append(np.linalg.norm(ans - x.reshape(-1)) / np.linalg.norm(x)))\n",
        "print(f'\\t num_iter = {len(cg_list)}, e = {cg_list[-1]}')"
      ]
    },
    {
      "cell_type": "markdown",
      "source": [
        "The drawback can be if some assumptions on the preconditioner is violated, the behavior of the preconditioned conjugate gradient method may become unpredictable."
      ],
      "metadata": {
        "id": "JQJHlT79-esc"
      }
    },
    {
      "cell_type": "code",
      "source": [
        ""
      ],
      "metadata": {
        "id": "TuHvrHYi-c-R"
      },
      "execution_count": null,
      "outputs": []
    },
    {
      "cell_type": "markdown",
      "metadata": {
        "id": "ez3m0Y-n6hpy"
      },
      "source": [
        "## Task 4 (10 pts)\n",
        "\n",
        "- Implement Tikhonov regularization, i.e. deconvolve $\\hat{y}$ with the perturbed matrix $T_{\\lambda} = T + \\lambda^2I$ instead of $T$. Modify `T_matvec()` according to the template below.\n",
        "- Perform computations for all $\\lambda \\in \\{10, 1, 0.1\\}$ and $tol \\in \\{10^{-3}, 10^{-4}, 10^{-5},10^{-6}, 10^{-7} \\}$. For each pair $(\\lambda, tol)$ write out `num_iters` and relative error $e = \\frac{\\|x - x^*\\|_2}{\\|x\\|_2}$. Comment on the results: \n",
        "    - Compare robustness of the convergence with task 2. What the observed results indicate?"
      ]
    },
    {
      "cell_type": "code",
      "execution_count": null,
      "metadata": {
        "id": "IIs9QI7R6hpy"
      },
      "outputs": [],
      "source": [
        "def T_lmbda_matvec(x, aplha, lmbda):\n",
        "    n = int(x.shape[0]**0.5)\n",
        "    x_full = np.zeros((2*n, 2*n))\n",
        "    x_full[:n, :n] = x.reshape(n, n)\n",
        "\n",
        "    t = np.exp(-alpha * np.array(list(range(n)) + [0] + list(range(n - 1, 0, -1)))**2)\n",
        "    T = t[:, None] @ t[None, :] + lmbda**2 * np.eye(2*n)\n",
        "\n",
        "    y = alpha / np.pi * ifft2(fft2(T) * fft2(x_full))[:n,:n]\n",
        "\n",
        "    return y.real.reshape(1, -1)\n",
        "\n",
        "# your code is here"
      ]
    },
    {
      "cell_type": "code",
      "source": [
        "lmbda_arr = [10, 1, 0.1]\n",
        "tol_arr = [1e-3, 1e-4, 1e-5, 1e-6, 1e-7]\n",
        "\n",
        "\n",
        "for l in lmbda_arr:\n",
        "  print(f'lmbda: {l}')\n",
        "  for tol in tol_arr:\n",
        "    print(f'\\ttol: {tol}')\n",
        "    cg_list = []\n",
        "    T = spla.LinearOperator((n**2, n**2), matvec = lambda x: T_lmbda_matvec(x, alpha, l))\n",
        "    y = T.dot(x.reshape(-1))\n",
        "    y_hat = y + np.random.randn(y.shape[0])\n",
        "    out = cg(T, y_hat, tol=tol, maxiter=3000, callback=lambda ans: cg_list.append(np.linalg.norm(ans - x.reshape(-1)) / np.linalg.norm(x)))\n",
        "    print(f'\\t num_iter = {len(cg_list)}, e = {cg_list[-1]}')"
      ],
      "metadata": {
        "colab": {
          "base_uri": "https://localhost:8080/",
          "height": 800
        },
        "id": "M5GMV-BekwAZ",
        "outputId": "277f6e0b-eb4e-45d3-f3fe-832fb17dc525"
      },
      "execution_count": null,
      "outputs": [
        {
          "output_type": "stream",
          "name": "stdout",
          "text": [
            "lmbda: 10\n",
            "\ttol: 0.001\n",
            "\t num_iter = 1, e = 0.5429177946920252\n",
            "\ttol: 0.0001\n",
            "\t num_iter = 1, e = 0.5429177944228347\n",
            "\ttol: 1e-05\n",
            "\t num_iter = 2, e = 0.38094087884238964\n",
            "\ttol: 1e-06\n",
            "\t num_iter = 5, e = 0.2953354221980413\n",
            "\ttol: 1e-07\n",
            "\t num_iter = 3000, e = 6186848.820099579\n",
            "lmbda: 1\n",
            "\ttol: 0.001\n",
            "\t num_iter = 2, e = 0.38086643876557985\n",
            "\ttol: 0.0001\n",
            "\t num_iter = 4, e = 0.2952978069902279\n",
            "\ttol: 1e-05\n",
            "\t num_iter = 3000, e = 7785767.9480978865\n",
            "\ttol: 1e-06\n",
            "\t num_iter = 3000, e = 8542968.770404104\n",
            "\ttol: 1e-07\n",
            "\t num_iter = 3000, e = 7444681.687351868\n",
            "lmbda: 0.1\n",
            "\ttol: 0.001\n",
            "\t num_iter = 3000, e = 10188139.260756351\n",
            "\ttol: 0.0001\n"
          ]
        },
        {
          "output_type": "error",
          "ename": "KeyboardInterrupt",
          "evalue": "ignored",
          "traceback": [
            "\u001b[0;31m---------------------------------------------------------------------------\u001b[0m",
            "\u001b[0;31mKeyboardInterrupt\u001b[0m                         Traceback (most recent call last)",
            "\u001b[0;32m<ipython-input-101-41ea0b13529d>\u001b[0m in \u001b[0;36m<module>\u001b[0;34m()\u001b[0m\n\u001b[1;32m     11\u001b[0m     \u001b[0my\u001b[0m \u001b[0;34m=\u001b[0m \u001b[0mT\u001b[0m\u001b[0;34m.\u001b[0m\u001b[0mdot\u001b[0m\u001b[0;34m(\u001b[0m\u001b[0mx\u001b[0m\u001b[0;34m.\u001b[0m\u001b[0mreshape\u001b[0m\u001b[0;34m(\u001b[0m\u001b[0;34m-\u001b[0m\u001b[0;36m1\u001b[0m\u001b[0;34m)\u001b[0m\u001b[0;34m)\u001b[0m\u001b[0;34m\u001b[0m\u001b[0;34m\u001b[0m\u001b[0m\n\u001b[1;32m     12\u001b[0m     \u001b[0my_hat\u001b[0m \u001b[0;34m=\u001b[0m \u001b[0my\u001b[0m \u001b[0;34m+\u001b[0m \u001b[0mnp\u001b[0m\u001b[0;34m.\u001b[0m\u001b[0mrandom\u001b[0m\u001b[0;34m.\u001b[0m\u001b[0mrandn\u001b[0m\u001b[0;34m(\u001b[0m\u001b[0my\u001b[0m\u001b[0;34m.\u001b[0m\u001b[0mshape\u001b[0m\u001b[0;34m[\u001b[0m\u001b[0;36m0\u001b[0m\u001b[0;34m]\u001b[0m\u001b[0;34m)\u001b[0m\u001b[0;34m\u001b[0m\u001b[0;34m\u001b[0m\u001b[0m\n\u001b[0;32m---> 13\u001b[0;31m     \u001b[0mout\u001b[0m \u001b[0;34m=\u001b[0m \u001b[0mcg\u001b[0m\u001b[0;34m(\u001b[0m\u001b[0mT\u001b[0m\u001b[0;34m,\u001b[0m \u001b[0my_hat\u001b[0m\u001b[0;34m,\u001b[0m \u001b[0mtol\u001b[0m\u001b[0;34m=\u001b[0m\u001b[0mtol\u001b[0m\u001b[0;34m,\u001b[0m \u001b[0mmaxiter\u001b[0m\u001b[0;34m=\u001b[0m\u001b[0;36m3000\u001b[0m\u001b[0;34m,\u001b[0m \u001b[0mcallback\u001b[0m\u001b[0;34m=\u001b[0m\u001b[0;32mlambda\u001b[0m \u001b[0mans\u001b[0m\u001b[0;34m:\u001b[0m \u001b[0mcg_list\u001b[0m\u001b[0;34m.\u001b[0m\u001b[0mappend\u001b[0m\u001b[0;34m(\u001b[0m\u001b[0mnp\u001b[0m\u001b[0;34m.\u001b[0m\u001b[0mlinalg\u001b[0m\u001b[0;34m.\u001b[0m\u001b[0mnorm\u001b[0m\u001b[0;34m(\u001b[0m\u001b[0mans\u001b[0m \u001b[0;34m-\u001b[0m \u001b[0mx\u001b[0m\u001b[0;34m.\u001b[0m\u001b[0mreshape\u001b[0m\u001b[0;34m(\u001b[0m\u001b[0;34m-\u001b[0m\u001b[0;36m1\u001b[0m\u001b[0;34m)\u001b[0m\u001b[0;34m)\u001b[0m \u001b[0;34m/\u001b[0m \u001b[0mnp\u001b[0m\u001b[0;34m.\u001b[0m\u001b[0mlinalg\u001b[0m\u001b[0;34m.\u001b[0m\u001b[0mnorm\u001b[0m\u001b[0;34m(\u001b[0m\u001b[0mx\u001b[0m\u001b[0;34m)\u001b[0m\u001b[0;34m)\u001b[0m\u001b[0;34m)\u001b[0m\u001b[0;34m\u001b[0m\u001b[0;34m\u001b[0m\u001b[0m\n\u001b[0m\u001b[1;32m     14\u001b[0m     \u001b[0mprint\u001b[0m\u001b[0;34m(\u001b[0m\u001b[0;34mf'\\t num_iter = {len(cg_list)}, e = {cg_list[-1]}'\u001b[0m\u001b[0;34m)\u001b[0m\u001b[0;34m\u001b[0m\u001b[0;34m\u001b[0m\u001b[0m\n",
            "\u001b[0;32m/usr/local/lib/python3.7/dist-packages/scipy/sparse/linalg/isolve/iterative.py\u001b[0m in \u001b[0;36mcg\u001b[0;34m(A, b, x0, tol, maxiter, M, callback, atol)\u001b[0m\n",
            "\u001b[0;32m/usr/local/lib/python3.7/dist-packages/scipy/_lib/_threadsafety.py\u001b[0m in \u001b[0;36mcaller\u001b[0;34m(func, *a, **kw)\u001b[0m\n\u001b[1;32m     44\u001b[0m         \u001b[0;32mdef\u001b[0m \u001b[0mcaller\u001b[0m\u001b[0;34m(\u001b[0m\u001b[0mfunc\u001b[0m\u001b[0;34m,\u001b[0m \u001b[0;34m*\u001b[0m\u001b[0ma\u001b[0m\u001b[0;34m,\u001b[0m \u001b[0;34m**\u001b[0m\u001b[0mkw\u001b[0m\u001b[0;34m)\u001b[0m\u001b[0;34m:\u001b[0m\u001b[0;34m\u001b[0m\u001b[0;34m\u001b[0m\u001b[0m\n\u001b[1;32m     45\u001b[0m             \u001b[0;32mwith\u001b[0m \u001b[0mself\u001b[0m\u001b[0;34m:\u001b[0m\u001b[0;34m\u001b[0m\u001b[0;34m\u001b[0m\u001b[0m\n\u001b[0;32m---> 46\u001b[0;31m                 \u001b[0;32mreturn\u001b[0m \u001b[0mfunc\u001b[0m\u001b[0;34m(\u001b[0m\u001b[0;34m*\u001b[0m\u001b[0ma\u001b[0m\u001b[0;34m,\u001b[0m \u001b[0;34m**\u001b[0m\u001b[0mkw\u001b[0m\u001b[0;34m)\u001b[0m\u001b[0;34m\u001b[0m\u001b[0;34m\u001b[0m\u001b[0m\n\u001b[0m\u001b[1;32m     47\u001b[0m         \u001b[0;32mreturn\u001b[0m \u001b[0mscipy\u001b[0m\u001b[0;34m.\u001b[0m\u001b[0m_lib\u001b[0m\u001b[0;34m.\u001b[0m\u001b[0mdecorator\u001b[0m\u001b[0;34m.\u001b[0m\u001b[0mdecorate\u001b[0m\u001b[0;34m(\u001b[0m\u001b[0mfunc\u001b[0m\u001b[0;34m,\u001b[0m \u001b[0mcaller\u001b[0m\u001b[0;34m)\u001b[0m\u001b[0;34m\u001b[0m\u001b[0;34m\u001b[0m\u001b[0m\n\u001b[1;32m     48\u001b[0m \u001b[0;34m\u001b[0m\u001b[0m\n",
            "\u001b[0;32m/usr/local/lib/python3.7/dist-packages/scipy/sparse/linalg/isolve/iterative.py\u001b[0m in \u001b[0;36mcg\u001b[0;34m(A, b, x0, tol, maxiter, M, callback, atol)\u001b[0m\n\u001b[1;32m    313\u001b[0m         \u001b[0;32melif\u001b[0m \u001b[0;34m(\u001b[0m\u001b[0mijob\u001b[0m \u001b[0;34m==\u001b[0m \u001b[0;36m1\u001b[0m\u001b[0;34m)\u001b[0m\u001b[0;34m:\u001b[0m\u001b[0;34m\u001b[0m\u001b[0;34m\u001b[0m\u001b[0m\n\u001b[1;32m    314\u001b[0m             \u001b[0mwork\u001b[0m\u001b[0;34m[\u001b[0m\u001b[0mslice2\u001b[0m\u001b[0;34m]\u001b[0m \u001b[0;34m*=\u001b[0m \u001b[0msclr2\u001b[0m\u001b[0;34m\u001b[0m\u001b[0;34m\u001b[0m\u001b[0m\n\u001b[0;32m--> 315\u001b[0;31m             \u001b[0mwork\u001b[0m\u001b[0;34m[\u001b[0m\u001b[0mslice2\u001b[0m\u001b[0;34m]\u001b[0m \u001b[0;34m+=\u001b[0m \u001b[0msclr1\u001b[0m\u001b[0;34m*\u001b[0m\u001b[0mmatvec\u001b[0m\u001b[0;34m(\u001b[0m\u001b[0mwork\u001b[0m\u001b[0;34m[\u001b[0m\u001b[0mslice1\u001b[0m\u001b[0;34m]\u001b[0m\u001b[0;34m)\u001b[0m\u001b[0;34m\u001b[0m\u001b[0;34m\u001b[0m\u001b[0m\n\u001b[0m\u001b[1;32m    316\u001b[0m         \u001b[0;32melif\u001b[0m \u001b[0;34m(\u001b[0m\u001b[0mijob\u001b[0m \u001b[0;34m==\u001b[0m \u001b[0;36m2\u001b[0m\u001b[0;34m)\u001b[0m\u001b[0;34m:\u001b[0m\u001b[0;34m\u001b[0m\u001b[0;34m\u001b[0m\u001b[0m\n\u001b[1;32m    317\u001b[0m             \u001b[0mwork\u001b[0m\u001b[0;34m[\u001b[0m\u001b[0mslice1\u001b[0m\u001b[0;34m]\u001b[0m \u001b[0;34m=\u001b[0m \u001b[0mpsolve\u001b[0m\u001b[0;34m(\u001b[0m\u001b[0mwork\u001b[0m\u001b[0;34m[\u001b[0m\u001b[0mslice2\u001b[0m\u001b[0;34m]\u001b[0m\u001b[0;34m)\u001b[0m\u001b[0;34m\u001b[0m\u001b[0;34m\u001b[0m\u001b[0m\n",
            "\u001b[0;32m/usr/local/lib/python3.7/dist-packages/scipy/sparse/linalg/interface.py\u001b[0m in \u001b[0;36mmatvec\u001b[0;34m(self, x)\u001b[0m\n\u001b[1;32m    227\u001b[0m             \u001b[0;32mraise\u001b[0m \u001b[0mValueError\u001b[0m\u001b[0;34m(\u001b[0m\u001b[0;34m'dimension mismatch'\u001b[0m\u001b[0;34m)\u001b[0m\u001b[0;34m\u001b[0m\u001b[0;34m\u001b[0m\u001b[0m\n\u001b[1;32m    228\u001b[0m \u001b[0;34m\u001b[0m\u001b[0m\n\u001b[0;32m--> 229\u001b[0;31m         \u001b[0my\u001b[0m \u001b[0;34m=\u001b[0m \u001b[0mself\u001b[0m\u001b[0;34m.\u001b[0m\u001b[0m_matvec\u001b[0m\u001b[0;34m(\u001b[0m\u001b[0mx\u001b[0m\u001b[0;34m)\u001b[0m\u001b[0;34m\u001b[0m\u001b[0;34m\u001b[0m\u001b[0m\n\u001b[0m\u001b[1;32m    230\u001b[0m \u001b[0;34m\u001b[0m\u001b[0m\n\u001b[1;32m    231\u001b[0m         \u001b[0;32mif\u001b[0m \u001b[0misinstance\u001b[0m\u001b[0;34m(\u001b[0m\u001b[0mx\u001b[0m\u001b[0;34m,\u001b[0m \u001b[0mnp\u001b[0m\u001b[0;34m.\u001b[0m\u001b[0mmatrix\u001b[0m\u001b[0;34m)\u001b[0m\u001b[0;34m:\u001b[0m\u001b[0;34m\u001b[0m\u001b[0;34m\u001b[0m\u001b[0m\n",
            "\u001b[0;32m/usr/local/lib/python3.7/dist-packages/scipy/sparse/linalg/interface.py\u001b[0m in \u001b[0;36m_matvec\u001b[0;34m(self, x)\u001b[0m\n\u001b[1;32m    525\u001b[0m \u001b[0;34m\u001b[0m\u001b[0m\n\u001b[1;32m    526\u001b[0m     \u001b[0;32mdef\u001b[0m \u001b[0m_matvec\u001b[0m\u001b[0;34m(\u001b[0m\u001b[0mself\u001b[0m\u001b[0;34m,\u001b[0m \u001b[0mx\u001b[0m\u001b[0;34m)\u001b[0m\u001b[0;34m:\u001b[0m\u001b[0;34m\u001b[0m\u001b[0;34m\u001b[0m\u001b[0m\n\u001b[0;32m--> 527\u001b[0;31m         \u001b[0;32mreturn\u001b[0m \u001b[0mself\u001b[0m\u001b[0;34m.\u001b[0m\u001b[0m__matvec_impl\u001b[0m\u001b[0;34m(\u001b[0m\u001b[0mx\u001b[0m\u001b[0;34m)\u001b[0m\u001b[0;34m\u001b[0m\u001b[0;34m\u001b[0m\u001b[0m\n\u001b[0m\u001b[1;32m    528\u001b[0m \u001b[0;34m\u001b[0m\u001b[0m\n\u001b[1;32m    529\u001b[0m     \u001b[0;32mdef\u001b[0m \u001b[0m_rmatvec\u001b[0m\u001b[0;34m(\u001b[0m\u001b[0mself\u001b[0m\u001b[0;34m,\u001b[0m \u001b[0mx\u001b[0m\u001b[0;34m)\u001b[0m\u001b[0;34m:\u001b[0m\u001b[0;34m\u001b[0m\u001b[0;34m\u001b[0m\u001b[0m\n",
            "\u001b[0;32m<ipython-input-101-41ea0b13529d>\u001b[0m in \u001b[0;36m<lambda>\u001b[0;34m(x)\u001b[0m\n\u001b[1;32m      8\u001b[0m     \u001b[0mprint\u001b[0m\u001b[0;34m(\u001b[0m\u001b[0;34mf'\\ttol: {tol}'\u001b[0m\u001b[0;34m)\u001b[0m\u001b[0;34m\u001b[0m\u001b[0;34m\u001b[0m\u001b[0m\n\u001b[1;32m      9\u001b[0m     \u001b[0mcg_list\u001b[0m \u001b[0;34m=\u001b[0m \u001b[0;34m[\u001b[0m\u001b[0;34m]\u001b[0m\u001b[0;34m\u001b[0m\u001b[0;34m\u001b[0m\u001b[0m\n\u001b[0;32m---> 10\u001b[0;31m     \u001b[0mT\u001b[0m \u001b[0;34m=\u001b[0m \u001b[0mspla\u001b[0m\u001b[0;34m.\u001b[0m\u001b[0mLinearOperator\u001b[0m\u001b[0;34m(\u001b[0m\u001b[0;34m(\u001b[0m\u001b[0mn\u001b[0m\u001b[0;34m**\u001b[0m\u001b[0;36m2\u001b[0m\u001b[0;34m,\u001b[0m \u001b[0mn\u001b[0m\u001b[0;34m**\u001b[0m\u001b[0;36m2\u001b[0m\u001b[0;34m)\u001b[0m\u001b[0;34m,\u001b[0m \u001b[0mmatvec\u001b[0m \u001b[0;34m=\u001b[0m \u001b[0;32mlambda\u001b[0m \u001b[0mx\u001b[0m\u001b[0;34m:\u001b[0m \u001b[0mT_lmbda_matvec\u001b[0m\u001b[0;34m(\u001b[0m\u001b[0mx\u001b[0m\u001b[0;34m,\u001b[0m \u001b[0malpha\u001b[0m\u001b[0;34m,\u001b[0m \u001b[0ml\u001b[0m\u001b[0;34m)\u001b[0m\u001b[0;34m)\u001b[0m\u001b[0;34m\u001b[0m\u001b[0;34m\u001b[0m\u001b[0m\n\u001b[0m\u001b[1;32m     11\u001b[0m     \u001b[0my\u001b[0m \u001b[0;34m=\u001b[0m \u001b[0mT\u001b[0m\u001b[0;34m.\u001b[0m\u001b[0mdot\u001b[0m\u001b[0;34m(\u001b[0m\u001b[0mx\u001b[0m\u001b[0;34m.\u001b[0m\u001b[0mreshape\u001b[0m\u001b[0;34m(\u001b[0m\u001b[0;34m-\u001b[0m\u001b[0;36m1\u001b[0m\u001b[0;34m)\u001b[0m\u001b[0;34m)\u001b[0m\u001b[0;34m\u001b[0m\u001b[0;34m\u001b[0m\u001b[0m\n\u001b[1;32m     12\u001b[0m     \u001b[0my_hat\u001b[0m \u001b[0;34m=\u001b[0m \u001b[0my\u001b[0m \u001b[0;34m+\u001b[0m \u001b[0mnp\u001b[0m\u001b[0;34m.\u001b[0m\u001b[0mrandom\u001b[0m\u001b[0;34m.\u001b[0m\u001b[0mrandn\u001b[0m\u001b[0;34m(\u001b[0m\u001b[0my\u001b[0m\u001b[0;34m.\u001b[0m\u001b[0mshape\u001b[0m\u001b[0;34m[\u001b[0m\u001b[0;36m0\u001b[0m\u001b[0;34m]\u001b[0m\u001b[0;34m)\u001b[0m\u001b[0;34m\u001b[0m\u001b[0;34m\u001b[0m\u001b[0m\n",
            "\u001b[0;32m<ipython-input-98-76fadea252f2>\u001b[0m in \u001b[0;36mT_lmbda_matvec\u001b[0;34m(x, aplha, lmbda)\u001b[0m\n\u001b[1;32m      7\u001b[0m     \u001b[0mT\u001b[0m \u001b[0;34m=\u001b[0m \u001b[0mt\u001b[0m\u001b[0;34m[\u001b[0m\u001b[0;34m:\u001b[0m\u001b[0;34m,\u001b[0m \u001b[0;32mNone\u001b[0m\u001b[0;34m]\u001b[0m \u001b[0;34m@\u001b[0m \u001b[0mt\u001b[0m\u001b[0;34m[\u001b[0m\u001b[0;32mNone\u001b[0m\u001b[0;34m,\u001b[0m \u001b[0;34m:\u001b[0m\u001b[0;34m]\u001b[0m \u001b[0;34m+\u001b[0m \u001b[0mlmbda\u001b[0m\u001b[0;34m**\u001b[0m\u001b[0;36m2\u001b[0m \u001b[0;34m*\u001b[0m \u001b[0mnp\u001b[0m\u001b[0;34m.\u001b[0m\u001b[0mones\u001b[0m\u001b[0;34m(\u001b[0m\u001b[0;36m2\u001b[0m\u001b[0;34m*\u001b[0m\u001b[0mn\u001b[0m\u001b[0;34m)\u001b[0m\u001b[0;34m\u001b[0m\u001b[0;34m\u001b[0m\u001b[0m\n\u001b[1;32m      8\u001b[0m \u001b[0;34m\u001b[0m\u001b[0m\n\u001b[0;32m----> 9\u001b[0;31m     \u001b[0my\u001b[0m \u001b[0;34m=\u001b[0m \u001b[0malpha\u001b[0m \u001b[0;34m/\u001b[0m \u001b[0mnp\u001b[0m\u001b[0;34m.\u001b[0m\u001b[0mpi\u001b[0m \u001b[0;34m*\u001b[0m \u001b[0mifft2\u001b[0m\u001b[0;34m(\u001b[0m\u001b[0mfft2\u001b[0m\u001b[0;34m(\u001b[0m\u001b[0mT\u001b[0m\u001b[0;34m)\u001b[0m \u001b[0;34m*\u001b[0m \u001b[0mfft2\u001b[0m\u001b[0;34m(\u001b[0m\u001b[0mx_full\u001b[0m\u001b[0;34m)\u001b[0m\u001b[0;34m)\u001b[0m\u001b[0;34m[\u001b[0m\u001b[0;34m:\u001b[0m\u001b[0mn\u001b[0m\u001b[0;34m,\u001b[0m\u001b[0;34m:\u001b[0m\u001b[0mn\u001b[0m\u001b[0;34m]\u001b[0m\u001b[0;34m\u001b[0m\u001b[0;34m\u001b[0m\u001b[0m\n\u001b[0m\u001b[1;32m     10\u001b[0m \u001b[0;34m\u001b[0m\u001b[0m\n\u001b[1;32m     11\u001b[0m     \u001b[0;32mreturn\u001b[0m \u001b[0my\u001b[0m\u001b[0;34m.\u001b[0m\u001b[0mreal\u001b[0m\u001b[0;34m.\u001b[0m\u001b[0mreshape\u001b[0m\u001b[0;34m(\u001b[0m\u001b[0;36m1\u001b[0m\u001b[0;34m,\u001b[0m \u001b[0;34m-\u001b[0m\u001b[0;36m1\u001b[0m\u001b[0;34m)\u001b[0m\u001b[0;34m\u001b[0m\u001b[0;34m\u001b[0m\u001b[0m\n",
            "\u001b[0;32m/usr/local/lib/python3.7/dist-packages/scipy/fft/_backend.py\u001b[0m in \u001b[0;36m__ua_function__\u001b[0;34m(method, args, kwargs)\u001b[0m\n\u001b[1;32m     21\u001b[0m         \u001b[0;32mif\u001b[0m \u001b[0mfn\u001b[0m \u001b[0;32mis\u001b[0m \u001b[0;32mNone\u001b[0m\u001b[0;34m:\u001b[0m\u001b[0;34m\u001b[0m\u001b[0;34m\u001b[0m\u001b[0m\n\u001b[1;32m     22\u001b[0m             \u001b[0;32mreturn\u001b[0m \u001b[0mNotImplemented\u001b[0m\u001b[0;34m\u001b[0m\u001b[0;34m\u001b[0m\u001b[0m\n\u001b[0;32m---> 23\u001b[0;31m         \u001b[0;32mreturn\u001b[0m \u001b[0mfn\u001b[0m\u001b[0;34m(\u001b[0m\u001b[0;34m*\u001b[0m\u001b[0margs\u001b[0m\u001b[0;34m,\u001b[0m \u001b[0;34m**\u001b[0m\u001b[0mkwargs\u001b[0m\u001b[0;34m)\u001b[0m\u001b[0;34m\u001b[0m\u001b[0;34m\u001b[0m\u001b[0m\n\u001b[0m\u001b[1;32m     24\u001b[0m \u001b[0;34m\u001b[0m\u001b[0m\n\u001b[1;32m     25\u001b[0m \u001b[0;34m\u001b[0m\u001b[0m\n",
            "\u001b[0;32m/usr/local/lib/python3.7/dist-packages/scipy/fft/_pocketfft/basic.py\u001b[0m in \u001b[0;36mifft2\u001b[0;34m(x, s, axes, norm, overwrite_x, workers)\u001b[0m\n\u001b[1;32m    108\u001b[0m     \u001b[0;36m2\u001b[0m\u001b[0;34m-\u001b[0m\u001b[0mD\u001b[0m \u001b[0mdiscrete\u001b[0m \u001b[0minverse\u001b[0m \u001b[0mFourier\u001b[0m \u001b[0mtransform\u001b[0m \u001b[0mof\u001b[0m \u001b[0mreal\u001b[0m \u001b[0;32mor\u001b[0m \u001b[0mcomplex\u001b[0m \u001b[0msequence\u001b[0m\u001b[0;34m.\u001b[0m\u001b[0;34m\u001b[0m\u001b[0;34m\u001b[0m\u001b[0m\n\u001b[1;32m    109\u001b[0m     \"\"\"\n\u001b[0;32m--> 110\u001b[0;31m     \u001b[0;32mreturn\u001b[0m \u001b[0mifftn\u001b[0m\u001b[0;34m(\u001b[0m\u001b[0mx\u001b[0m\u001b[0;34m,\u001b[0m \u001b[0ms\u001b[0m\u001b[0;34m,\u001b[0m \u001b[0maxes\u001b[0m\u001b[0;34m,\u001b[0m \u001b[0mnorm\u001b[0m\u001b[0;34m,\u001b[0m \u001b[0moverwrite_x\u001b[0m\u001b[0;34m,\u001b[0m \u001b[0mworkers\u001b[0m\u001b[0;34m)\u001b[0m\u001b[0;34m\u001b[0m\u001b[0;34m\u001b[0m\u001b[0m\n\u001b[0m\u001b[1;32m    111\u001b[0m \u001b[0;34m\u001b[0m\u001b[0m\n\u001b[1;32m    112\u001b[0m \u001b[0;34m\u001b[0m\u001b[0m\n",
            "\u001b[0;32m/usr/local/lib/python3.7/dist-packages/scipy/fft/_pocketfft/basic.py\u001b[0m in \u001b[0;36mc2cn\u001b[0;34m(forward, x, s, axes, norm, overwrite_x, workers)\u001b[0m\n\u001b[1;32m    159\u001b[0m     \u001b[0mout\u001b[0m \u001b[0;34m=\u001b[0m \u001b[0;34m(\u001b[0m\u001b[0mtmp\u001b[0m \u001b[0;32mif\u001b[0m \u001b[0moverwrite_x\u001b[0m \u001b[0;32mand\u001b[0m \u001b[0mtmp\u001b[0m\u001b[0;34m.\u001b[0m\u001b[0mdtype\u001b[0m\u001b[0;34m.\u001b[0m\u001b[0mkind\u001b[0m \u001b[0;34m==\u001b[0m \u001b[0;34m'c'\u001b[0m \u001b[0;32melse\u001b[0m \u001b[0;32mNone\u001b[0m\u001b[0;34m)\u001b[0m\u001b[0;34m\u001b[0m\u001b[0;34m\u001b[0m\u001b[0m\n\u001b[1;32m    160\u001b[0m \u001b[0;34m\u001b[0m\u001b[0m\n\u001b[0;32m--> 161\u001b[0;31m     \u001b[0;32mreturn\u001b[0m \u001b[0mpfft\u001b[0m\u001b[0;34m.\u001b[0m\u001b[0mc2c\u001b[0m\u001b[0;34m(\u001b[0m\u001b[0mtmp\u001b[0m\u001b[0;34m,\u001b[0m \u001b[0maxes\u001b[0m\u001b[0;34m,\u001b[0m \u001b[0mforward\u001b[0m\u001b[0;34m,\u001b[0m \u001b[0mnorm\u001b[0m\u001b[0;34m,\u001b[0m \u001b[0mout\u001b[0m\u001b[0;34m,\u001b[0m \u001b[0mworkers\u001b[0m\u001b[0;34m)\u001b[0m\u001b[0;34m\u001b[0m\u001b[0;34m\u001b[0m\u001b[0m\n\u001b[0m\u001b[1;32m    162\u001b[0m \u001b[0;34m\u001b[0m\u001b[0m\n\u001b[1;32m    163\u001b[0m \u001b[0;34m\u001b[0m\u001b[0m\n",
            "\u001b[0;31mKeyboardInterrupt\u001b[0m: "
          ]
        }
      ]
    },
    {
      "cell_type": "markdown",
      "source": [
        "On the first iterations it works much faster, but after I execute cell again it does not converge for some reason, maybe collab cpu..."
      ],
      "metadata": {
        "id": "927dUyyM9wsN"
      }
    },
    {
      "cell_type": "markdown",
      "source": [
        "Due to the fact that we use Tikhonov's regularization, that is, we use not an exact matrix the result is inaccurate."
      ],
      "metadata": {
        "id": "R8erZizD--3f"
      }
    },
    {
      "cell_type": "code",
      "source": [
        ""
      ],
      "metadata": {
        "id": "AY2RN9W1-7Jg"
      },
      "execution_count": null,
      "outputs": []
    },
    {
      "cell_type": "markdown",
      "metadata": {
        "id": "ut0QG1AW6hpy"
      },
      "source": [
        "## Task 5 (20 pts)\n",
        "\n",
        "- Implement BCCB preconditioner for $T_{\\lambda}$ based on Strang preconditioner for Toeplitz matrix (hint: build circulants using first columns of Toeplitz matrices on both levels). You know from lectures that circulants can be explicitly inverted using convolution theorem. Implement the corresponding matvec according to the template provided below.\n",
        "- Check speedup in iterations and runtime that can be gained from the preconditioning for $\\alpha = 0.01$, $\\lambda = 1$ compared with Task 4. Explain results."
      ]
    },
    {
      "cell_type": "code",
      "execution_count": null,
      "metadata": {
        "id": "DiJcm6XQ6hpz"
      },
      "outputs": [],
      "source": [
        "def C_inv_matvec(x, alpha, lmbda):\n",
        "    n = int(x.shape[0]**0.5)\n",
        "    x_full = np.zeros((2*n, 2*n))\n",
        "    x_full[:n, :n] = x.reshape(n, n)\n",
        "\n",
        "    t = np.exp(-alpha * np.array(list(range(n)) + [0] + list(range(n - 1, 0, -1)))**2)\n",
        "    c = t[:None] @ t[None:] + lmbda**2 * np.eye(2*n)\n",
        "    \n",
        "    c_inv_x = ifft2(fft2(1 / c) * fft2(x_full))[:n, :n]\n",
        "\n",
        "    return c_inv_x.real.reshape(-1)"
      ]
    },
    {
      "cell_type": "code",
      "source": [
        "cg_list\n",
        "alpha = 0.01\n",
        "lmbda = 1\n",
        "tol = 1e-3\n",
        "\n",
        "C_inv = spla.LinearOperator((n**2, n**2), matvec = lambda x: C_inv_matvec(x, alpha, lmbda))\n",
        "T = spla.LinearOperator((n**2, n**2), matvec = lambda x: T_lmbda_matvec(x, alpha, lmbda))\n",
        "\n",
        "y = T.dot(x.reshape(-1))\n",
        "y_hat = y + np.random.randn(y.shape[0])\n",
        "\n",
        "A = C_inv.dot(T)\n",
        "out_ = cg(A, y_hat, tol=tol, maxiter=3000)[0]\n",
        "\n",
        "out = cg(np.linalg.inv(C_inv), out_, tol=tol, maxiter=3000, callback=lambda ans: cg_list.append(np.linalg.norm(ans - x.reshape(-1)) / np.linalg.norm(x)))"
      ],
      "metadata": {
        "id": "NFe8fnPk13Tj"
      },
      "execution_count": null,
      "outputs": []
    }
  ],
  "metadata": {
    "kernelspec": {
      "display_name": "Python 3",
      "language": "python",
      "name": "python3"
    },
    "language_info": {
      "codemirror_mode": {
        "name": "ipython",
        "version": 3
      },
      "file_extension": ".py",
      "mimetype": "text/x-python",
      "name": "python",
      "nbconvert_exporter": "python",
      "pygments_lexer": "ipython3",
      "version": "3.7.7"
    },
    "toc": {
      "base_numbering": 1,
      "nav_menu": {},
      "number_sections": true,
      "sideBar": true,
      "skip_h1_title": false,
      "title_cell": "Table of Contents",
      "title_sidebar": "Contents",
      "toc_cell": false,
      "toc_position": {},
      "toc_section_display": true,
      "toc_window_display": false
    },
    "colab": {
      "name": "NLA_HW3_ProsvirinKV.ipynb",
      "provenance": [],
      "collapsed_sections": [],
      "include_colab_link": true
    }
  },
  "nbformat": 4,
  "nbformat_minor": 0
}