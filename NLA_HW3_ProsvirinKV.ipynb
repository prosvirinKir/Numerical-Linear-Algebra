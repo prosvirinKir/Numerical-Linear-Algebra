{
  "nbformat": 4,
  "nbformat_minor": 0,
  "metadata": {
    "kernelspec": {
      "display_name": "Python 3",
      "language": "python",
      "name": "python3"
    },
    "language_info": {
      "codemirror_mode": {
        "name": "ipython",
        "version": 3
      },
      "file_extension": ".py",
      "mimetype": "text/x-python",
      "name": "python",
      "nbconvert_exporter": "python",
      "pygments_lexer": "ipython3",
      "version": "3.7.7"
    },
    "toc": {
      "base_numbering": 1,
      "nav_menu": {},
      "number_sections": true,
      "sideBar": true,
      "skip_h1_title": false,
      "title_cell": "Table of Contents",
      "title_sidebar": "Contents",
      "toc_cell": false,
      "toc_position": {},
      "toc_section_display": true,
      "toc_window_display": false
    },
    "colab": {
      "name": "NLA_HW3_ProsvirinKV.ipynb",
      "provenance": [],
      "collapsed_sections": [],
      "include_colab_link": true
    }
  },
  "cells": [
    {
      "cell_type": "markdown",
      "metadata": {
        "id": "view-in-github",
        "colab_type": "text"
      },
      "source": [
        "<a href=\"https://colab.research.google.com/github/prosvirinKir/Numerical-Linear-Algebra/blob/main/NLA_HW3_ProsvirinKV.ipynb\" target=\"_parent\"><img src=\"https://colab.research.google.com/assets/colab-badge.svg\" alt=\"Open In Colab\"/></a>"
      ]
    },
    {
      "cell_type": "markdown",
      "metadata": {
        "id": "QzPanDlFq9j8"
      },
      "source": [
        "# Problem set 3 (90 pts)\n",
        "\n",
        "## Important note: the template for your solution filename is Name_Surname_PS3.ipynb\n",
        "\n",
        "### The correct answer to the bonus question can be used as an additional reason to increase the final grade in the border case"
      ]
    },
    {
      "cell_type": "markdown",
      "metadata": {
        "id": "K8VzZFQBq9j-"
      },
      "source": [
        "## Problem 1 (25 pts)\n",
        "\n",
        "- (5 pts) Prove that $\\mathrm{vec}(AXB) = (B^\\top \\otimes A)\\, \\mathrm{vec}(X)$ if $\\mathrm{vec}(X)$ is a columnwise reshape of a matrix into a long vector. What does it change if the reshape is rowwise? \n",
        "\n",
        "**Note:** To make a columnwise reshape in Python one should use ```np.reshape(X, order='f')```, where the string ```'f'``` stands for the Fortran ordering. \n",
        "\n",
        "Let $\\mathbf{B}=\\left[\\begin{array}{ccc}{b}_{1} & {b}_{2} \\cdots & {b}_{n}\\end{array}\\right]$ (of size $m \\times n$ ) and $\\mathbf{X}=\\left[x_{1} x_{2} \\cdots x_{m}\\right]$. \n",
        "\n",
        "Then, the $k$-th column of $\\mathbf{A X B}$ is\n",
        "$$\n",
        "\\begin{aligned}\n",
        "({A} {X} {B})_{:, k} &={A} {X} {b}_{k}={A} \\sum_{i=1}^{m} {x}_{i} b_{i, k} =\n",
        "\\left[\n",
        "    b_{1, k} {A} b_{2 . k} {A} \\cdots b_{m, k} {A}\n",
        "\\right]\n",
        "\\underbrace{\\left[\n",
        "    \\begin{array}{c}\n",
        "    {x}_{1} \\\\\n",
        "    {x}_{2} \\\\\n",
        "    \\vdots \\\\\n",
        "    {x}_{m}\n",
        "    \\end{array}\n",
        "\\right]}_{\\operatorname{vec}({\\mathbf{X}})}= \\\\\n",
        "&=(\\underbrace{\\left[b_{1, k}, b_{2, k}, \\ldots, b_{m, k}\\right]}_{{b}_{k}^{T}} \\otimes {A}) \\operatorname{vec}(\\mathbf{X})\n",
        "\\end{aligned}\n",
        "$$\n",
        "Stacking the columns together\n",
        "$$\n",
        "\\begin{aligned}\n",
        "\\operatorname{vec}(\\boldsymbol{A} \\boldsymbol{X} \\boldsymbol{B}) &=\\left[\\begin{array}{c}\n",
        "(\\boldsymbol{A} \\boldsymbol{X} \\boldsymbol{B})_{:, 1} \\\\\n",
        "(\\boldsymbol{A} \\boldsymbol{X} \\boldsymbol{B})_{:, 2} \\\\\n",
        "\\vdots \\\\\n",
        "(\\boldsymbol{A} \\boldsymbol{X} \\boldsymbol{B})_{:, n}\n",
        "\\end{array}\\right]=\\left[\\begin{array}{c}\n",
        "\\boldsymbol{b}_{1}^{T} \\otimes \\boldsymbol{A} \\\\\n",
        "\\boldsymbol{b}_{2}^{T} \\otimes \\boldsymbol{A} \\\\\n",
        "\\vdots \\\\\n",
        "\\boldsymbol{b}_{n}^{T} \\otimes \\boldsymbol{A}\n",
        "\\end{array}\\right] \\operatorname{vec}(\\boldsymbol{X})=\\left(\\boldsymbol{B}^{T} \\otimes \\boldsymbol{A}\\right) \\operatorname{vec}(\\boldsymbol{X})\n",
        "\\end{aligned}\n",
        "$$\n",
        "$$$$\n",
        "In case of rows we have:\n",
        "$(AXB)_k = (a_kX)B = \\sum_{i=1}^{m} a_{ki} x_i \\cdot B = \\sum_{i=1}^{m} x_i (a_{ki} B) = vec(X) \\cdot ([a_{k1}, \\ldots, a_{km}] \\otimes B) = vec(X) \\cdot (A_k^{T} \\otimes B) \\Longrightarrow \\mathrm{vec}(AXB) = vec(X) \\cdot (A^{T} \\otimes B)$"
      ]
    },
    {
      "cell_type": "code",
      "metadata": {
        "id": "4s4yE_0NvC1J"
      },
      "source": [
        ""
      ],
      "execution_count": null,
      "outputs": []
    },
    {
      "cell_type": "code",
      "metadata": {
        "id": "L0mVdAfIvC65"
      },
      "source": [
        ""
      ],
      "execution_count": null,
      "outputs": []
    },
    {
      "cell_type": "markdown",
      "metadata": {
        "id": "2d_0Y4iEvDhx"
      },
      "source": [
        "\n",
        "\n",
        "- (2 pts) What is the complexity of a naive computation of $(A \\otimes B) x$? Show how it can be reduced.\n",
        "\n",
        "Since $A \\in \\mathbb{R}_{n \\times m}$, \n",
        "$B \\in \\mathbb{R}_{k \\times l}, \n",
        "X \\in \\mathbb{R}_{l \\times m},\n",
        "x \\in \\mathbb{R}_{lm \\times 1}\n",
        "\\Longrightarrow $ \n",
        "complexity $(A \\otimes B)x$ is $\\mathcal{O}(nkml)$ \n",
        "\n",
        "To reduce the complexity we can use results from previous task:\n",
        "$$ (A \\otimes B) \\mbox{vec}(X) = \\mbox{vec}(BXA^T) $$,\n",
        "where $ \\mathrm{vec(\\mathbf{X})} \\in \\mathbb{R}_{lm \\times 1}$.\n",
        "\n",
        "And the complexity of $\\mbox{vec}(BXA^T)$ is already $\\mathcal{O}((n+l)km) $\n",
        "\n"
      ]
    },
    {
      "cell_type": "code",
      "metadata": {
        "id": "122zMyHVC6PV"
      },
      "source": [
        ""
      ],
      "execution_count": null,
      "outputs": []
    },
    {
      "cell_type": "code",
      "metadata": {
        "id": "c-DCWEVIC6UM"
      },
      "source": [
        ""
      ],
      "execution_count": null,
      "outputs": []
    },
    {
      "cell_type": "markdown",
      "metadata": {
        "id": "aQ1p9P3YC6gq"
      },
      "source": [
        "- (3 pts) Let matrices $A$ and $B$ have eigendecompositions $A = S_A\\Lambda_A S_A^{-1}$ and $B = S_B\\Lambda_B S^{-1}_B$. Find eigenvectors and eigenvalues of the matrix $A\\otimes I + I \\otimes B$, where dimension of $I$ coincides with the dimension of $A$ and $B$.\n",
        "\n",
        "From lectures we know some Kron product roperties:\n",
        "1. $A \\otimes (B + C) = (A \\otimes B) + (A \\otimes C)$\n",
        "2. $(A \\otimes B)(C \\otimes D) = (AC \\otimes BD)$\n",
        "\n",
        "\n",
        "Since $Ax=\\lambda_A x$ and $By=\\lambda_B y$ we can get:\n",
        "\n",
        "\\begin{array}{l}\n",
        "(A \\otimes I+I \\otimes B)(x \\otimes y)=  \\textbf {1st property}\n",
        "=(A \\otimes I)(x \\otimes y)+(I \\otimes B)(x \\otimes y)=\\\\\n",
        "= \\textbf {2nd property }\n",
        "=A x \\otimes y+x \\otimes B y=\\lambda_{A}(x \\otimes y)+\\lambda_{B}(x \\otimes y)= \\left(\\lambda_{A}+\\lambda_{B}\\right)(x \\otimes y)\n",
        "\\end{array}\n",
        "$$$$\n",
        "\n",
        "\n",
        "$$\n",
        "A \\otimes I+I \\otimes B=S_{A} \\Lambda_{A} S_{A}^{-1} \\otimes I+I \\otimes S_{B} \\Lambda_{B} S_{B}^{-1}=S_{A} \\Lambda_{A} S_{A}^{-1} \\otimes S_{B} S_{B}^{-1}+S_{A} S_{A}^{-1} \\otimes S_{B} \\Lambda_{B} S_{B}^{-1}=\\left(S_{A} \\Lambda_{A} \\otimes S_{B}+S_{A} \\otimes S_{B} \\Lambda_{B}\\right)\\left(S_{A}^{-1} \\otimes S_{B}^{-1}\\right)=\\left(S_{A} \\otimes S_{B}\\right)\\left(\\Lambda_{A}\\otimes I+I \\otimes \\Lambda_{B}\\right)\\left(S_{A}^{-1} \\otimes S_{B}^{-1}\\right)=\\left(S_{A} \\otimes S_{B}\\right)\\left(\\Lambda_{A} \\otimes I+I \\otimes \\Lambda_{B}\\right)\\left(S_{A} \\otimes S_{B}\\right)^{-1}\n",
        "$$\n",
        "\n",
        "So, we have \n",
        "\\begin{array}{l}\n",
        "\\text { So, } A \\otimes I+I \\otimes B=\\left(S_{A} \\otimes S_{B}\\right)\\left(\\Lambda_{A} \\otimes I+I \\otimes \\Lambda_{B}\\right)\\left(S_{A} \\otimes S_{B}\\right)^{-1}=S \\Lambda S^{-1}\n",
        "\\end{array}\n",
        "\n",
        "Hince, eigenvectors of the given matrix are the columns in matrix $S=S_{A} \\otimes S_{B}$ and the eigenvalues are $\\lambda_{A}^{i}+\\lambda_{B}^{j}$ for $1 \\leq i \\leq n, 1 \\leq j \\leq n$\n"
      ]
    },
    {
      "cell_type": "code",
      "metadata": {
        "id": "yggCCl_7Qhab"
      },
      "source": [
        ""
      ],
      "execution_count": null,
      "outputs": []
    },
    {
      "cell_type": "code",
      "metadata": {
        "id": "S-72h-nyQhfR"
      },
      "source": [
        ""
      ],
      "execution_count": null,
      "outputs": []
    },
    {
      "cell_type": "markdown",
      "metadata": {
        "id": "jSthjyvAQhtR"
      },
      "source": [
        "\n",
        "\n",
        "\n",
        "- (10 pts) Let $A = \\mathrm{diag}\\left(\\frac{1}{1000},\\frac{2}{1000},\\dots \\frac{999}{1000}, 1, 1000 \\right)$. Estimate analytically the number of iterations required  to solve linear system with $A$ with the relative accuracy $10^{-4}$ using\n",
        "    - Richardson iteration with the optimal choice of parameter (use $2$-norm)\n",
        "    - Chebyshev iteration (use $2$-norm)\n",
        "    - Conjugate gradient method (use $A$-norm).\n",
        "    \n",
        "- (5 pts) Provide numerical confirmation of your estimate from theoretical point of view\n",
        "\n",
        "**Richardson**\n",
        "\n",
        "From the lectures we know that $||e_k||_2 \\leq q^k ||e_0||_2 $, \n",
        "where $q = \\frac{cond(A)-1}{cond(A)+1}$\n",
        "\n",
        "Relative accuracy is $\\varepsilon = \\frac{||e_k||_2}{||e_0||_2} = 10^{-4}$ then we get that $\\left(\\frac{10^6-1}{10^6+1}\\right)^k = 10^{-4}$, hince $k \\geq 4605000$.\n",
        "$$$$\n",
        "\n",
        "**Chebyshev**\n",
        "    \n",
        "Relative accuracy is  $\\varepsilon = \\frac{||e_k||_2}{||e_0||_2} = 10^{-4}$\n",
        "then we get that \n",
        "$(\\frac{10^3-1}{10^3+1})^k = 10^{-4}$, hince $k \\geq 4606$.\n",
        "$$$$\n",
        "\n",
        "**Conjugate gradient**\n",
        "\n",
        "$\n",
        "\\frac{\\|x_k - x_* \\|_A}{\\| x_* \\|_A} \\leq 2 \\Big( \\frac{\\sqrt{\\mbox{cond}(A)} - 1}{\\sqrt{\\mbox{cond}(A)} + 1} \\Big)^k $\n",
        "\n",
        "$ -4 \\leq \\log{2 \\left( \\frac{999}{1001} \\right)^k }= \\log 2 + \n",
        " \\log{\\frac{999}{1001}} $\n",
        "\n",
        "$ -4 - \\log 2 \\leq k \\log\\frac{999}{1001} $\n",
        "\n",
        "$k \\geq \\frac{-4 \\log 2}{\\log\\frac{999}{1001}}  = 4952$\n",
        "\n"
      ]
    },
    {
      "cell_type": "markdown",
      "metadata": {
        "id": "yQrYyZ2dwQtf"
      },
      "source": [
        ""
      ]
    },
    {
      "cell_type": "code",
      "metadata": {
        "id": "UT7ZH5i1wPdx"
      },
      "source": [
        "import numpy as np\n",
        "import time\n",
        "import matplotlib.pyplot as plt\n",
        "from tqdm import tqdm\n",
        "%matplotlib inline"
      ],
      "execution_count": 20,
      "outputs": []
    },
    {
      "cell_type": "code",
      "metadata": {
        "id": "5vlXTPObq9j_"
      },
      "source": [
        "# Your solution is here"
      ],
      "execution_count": null,
      "outputs": []
    },
    {
      "cell_type": "code",
      "metadata": {
        "id": "cb8CDWAnvC_C"
      },
      "source": [
        "# Alexandr sad that we can use CG from scipy"
      ],
      "execution_count": null,
      "outputs": []
    },
    {
      "cell_type": "code",
      "metadata": {
        "id": "vemYdaAB4Khx"
      },
      "source": [
        "def Richardson(A, num_iters, tau):\n",
        "    res = []\n",
        "    x = np.zeros(A.shape[1])\n",
        "    for i in tqdm(range(num_iters)): \n",
        "        result = A.dot(x) - np.ones(A.shape[1])\n",
        "        x = x - tau * result\n",
        "        res.append(np.linalg.norm(result))\n",
        "        if np.linalg.norm(result) < 1e-4:\n",
        "            return res\n",
        "    return res\n",
        "\n",
        "def richardson(A, b, tau, x0, tol, max_iter):\n",
        "    x = x0.copy()\n",
        "    conv = []\n",
        "    for i in range(max_iter):\n",
        "        x = x - tau * (A @ x - b)\n",
        "        conv.append(x)\n",
        "        if np.linalg.norm(A @ x - b) < tol:\n",
        "            break\n",
        "    return x, conv"
      ],
      "execution_count": 21,
      "outputs": []
    },
    {
      "cell_type": "code",
      "metadata": {
        "id": "saSb5I15r08K"
      },
      "source": [
        "A = np.diagflat([i / 1000 for i in range(1, 1001)]+[1000])\n",
        "l_max = 1000\n",
        "l_min = 0.001\n",
        "tau = 2.0/(l_max + l_min)"
      ],
      "execution_count": 17,
      "outputs": []
    },
    {
      "cell_type": "code",
      "metadata": {
        "colab": {
          "base_uri": "https://localhost:8080/"
        },
        "id": "oqlROSzu4Koy",
        "outputId": "5236e51c-2a78-47f7-cef5-53577039bd82"
      },
      "source": [
        "res_richardson = Richardson(A, 4605170, tau)"
      ],
      "execution_count": 22,
      "outputs": [
        {
          "output_type": "stream",
          "name": "stderr",
          "text": [
            "100%|██████████| 4605170/4605170 [29:43<00:00, 2582.39it/s]\n"
          ]
        }
      ]
    },
    {
      "cell_type": "code",
      "metadata": {
        "colab": {
          "base_uri": "https://localhost:8080/",
          "height": 506
        },
        "id": "Q0-fqZEt4Kvp",
        "outputId": "6d3a2d38-5831-483b-bf72-a5d59f1eb1ff"
      },
      "source": [
        "#Convergence of an ordinary Richardson (with optimal parameter)\n",
        "plt.figure(figsize=(10, 8))\n",
        "plt.plot(res_richardson, color='red')\n",
        "plt.yscale(\"log\")\n",
        "plt.xlabel(\"Number of iterations\", fontsize=10)\n",
        "plt.ylabel(\"Relative error\", fontsize=10)\n",
        "plt.xticks(fontsize=20)\n",
        "plt.yticks(fontsize=20)\n",
        "plt.show()"
      ],
      "execution_count": 30,
      "outputs": [
        {
          "output_type": "display_data",
          "data": {
            "image/png": "[encoded data removed]",
            "text/plain": [
              "<Figure size 720x576 with 1 Axes>"
            ]
          },
          "metadata": {
            "needs_background": "light"
          }
        }
      ]
    },
    {
      "cell_type": "code",
      "metadata": {
        "colab": {
          "base_uri": "https://localhost:8080/"
        },
        "id": "Mkf8nG5iDa_0",
        "outputId": "62c0a7e0-936a-462b-b58c-02cd07420c28"
      },
      "source": [
        "res_richardson[-1]"
      ],
      "execution_count": 27,
      "outputs": [
        {
          "output_type": "execute_result",
          "data": {
            "text/plain": [
              "0.00014142169197821082"
            ]
          },
          "metadata": {},
          "execution_count": 27
        }
      ]
    },
    {
      "cell_type": "code",
      "metadata": {
        "id": "xOaZjfe_4K5q"
      },
      "source": [
        ""
      ],
      "execution_count": null,
      "outputs": []
    },
    {
      "cell_type": "code",
      "metadata": {
        "id": "hlKn4a9l6C8A"
      },
      "source": [
        ""
      ],
      "execution_count": null,
      "outputs": []
    },
    {
      "cell_type": "code",
      "metadata": {
        "id": "hBqnp69t6DRO"
      },
      "source": [
        "num_iters = 8192 # Actually, we got 4606, but we want power of two, that's why 8192\n",
        "roots = [np.cos((np.pi * (2 * i + 1)) / (2 * num_iters)) for i in range(num_iters)]\n",
        "taus = [(l_max + l_min - (l_min - l_max) * r) / 2 for r in roots]\n",
        "x = np.zeros(A.shape[1])\n",
        "result = A.dot(x) - np.ones(A.shape[1])\n",
        "Chebyshev_list = [np.linalg.norm(result)]\n",
        "\n",
        "# Implementation may be non-optimal if number of iterations is not power of two\n",
        "def good_shuffle(idx):\n",
        "    if len(idx) == 1:\n",
        "        return idx\n",
        "    else:\n",
        "        new_len = int(np.ceil((len(idx) / 2)))\n",
        "        new_idx = good_shuffle(idx[:new_len])\n",
        "        res_perm = []\n",
        "        perm_count = 0\n",
        "        for i in new_idx:\n",
        "            res_perm.append(i)\n",
        "            perm_count += 1\n",
        "            if perm_count == len(idx):\n",
        "                break\n",
        "            res_perm.append(len(idx) + 1 - i)\n",
        "            perm_count += 1\n",
        "            if perm_count == len(idx):\n",
        "                break\n",
        "        return res_perm\n",
        "\n",
        "# we do permutation in order to the method will be stable, because the norm of the product should be small\n",
        "good_perm = good_shuffle([i for i in range(1, num_iters+1)])\n",
        "\n",
        "for i in range(num_iters):\n",
        "    x = x - 1.0/taus[good_perm[i] - 1] * result\n",
        "    result = A.dot(x) - np.ones(A.shape[1])\n",
        "    Chebyshev_list.append(np.linalg.norm(result))"
      ],
      "execution_count": null,
      "outputs": []
    },
    {
      "cell_type": "code",
      "metadata": {
        "id": "1YQplME16y9d"
      },
      "source": [
        "plt.figure(figsize=(15, 7))\n",
        "\n",
        "plt.plot(convergence, color='red', label=f'Chebyshev, num_iter={num_iters}')\n",
        "plt.ylabel(\"error\")\n",
        "plt.xlabel(\"num_iter\")\n",
        "\n",
        "plt.legend()\n",
        "plt.grid()\n",
        "\n",
        "plt.subplot(1, 2, 2)\n",
        "plt.spy(Ak, precision=1e-7)\n",
        "plt.show()"
      ],
      "execution_count": null,
      "outputs": []
    },
    {
      "cell_type": "code",
      "metadata": {
        "id": "E2RbW-EF6zD8"
      },
      "source": [
        ""
      ],
      "execution_count": null,
      "outputs": []
    },
    {
      "cell_type": "code",
      "metadata": {
        "id": "gAb7mS4Y6zLH"
      },
      "source": [
        "import scipy"
      ],
      "execution_count": null,
      "outputs": []
    },
    {
      "cell_type": "code",
      "metadata": {
        "id": "O3w6mu8N4LAC"
      },
      "source": [
        "cg_list = []\n",
        "for i in range (300):\n",
        "    x = scipy.sparse.linalg.cg(A, np.ones(A.shape[1]), x0=np.zeros(A.shape[1]), maxiter=i)\n",
        "    result = A.dot(x[0]) - np.ones(A.shape[1])\n",
        "    cg_list.append(np.linalg.norm(result))"
      ],
      "execution_count": null,
      "outputs": []
    },
    {
      "cell_type": "code",
      "metadata": {
        "id": "b1Cgb_aj8plq"
      },
      "source": [
        "plt.figure(dpi=70)\n",
        "plt.plot(cg_list[1:])\n",
        "plt.title('CG', color='k')\n",
        "plt.xlabel('Number of iterations')\n",
        "plt.ylabel('$||Ax_k - b||_2$')\n",
        "plt.yscale('log')"
      ],
      "execution_count": null,
      "outputs": []
    },
    {
      "cell_type": "code",
      "metadata": {
        "id": "76WlNPrf8ptb"
      },
      "source": [
        ""
      ],
      "execution_count": null,
      "outputs": []
    },
    {
      "cell_type": "code",
      "metadata": {
        "id": "qQ5YBeEP8p1G"
      },
      "source": [
        ""
      ],
      "execution_count": null,
      "outputs": []
    },
    {
      "cell_type": "markdown",
      "metadata": {
        "id": "dh0nKsm46hpo"
      },
      "source": [
        "## Problem 2 (65 pts)\n",
        "### On the performance of conjugate gradient method for BTTB matrices.\n",
        "\n",
        "You are given 2D image (QR-code) and convolution operator $T$. The application of $T$ results in smoothing of the image. In exact arithmetic, the proposed $T$ is non-singular. However, it becomes rather ill-conditioned with increasing $N$ in finite precision arithmetic. In this task you need to study how the conjugate gradient method performs in this case."
      ]
    },
    {
      "cell_type": "markdown",
      "metadata": {
        "id": "3gi5DJJz6hps"
      },
      "source": [
        "The original passcode is given below:"
      ]
    },
    {
      "cell_type": "code",
      "metadata": {
        "id": "mxPusfbx6hps",
        "outputId": "2fe5ac3f-c23e-4f3d-dc69-b211ec69506b"
      },
      "source": [
        "import matplotlib.pyplot as plt\n",
        "x = plt.imread('qrcode.gif')[:,:,0]\n",
        "n = x.shape[0]\n",
        "plt.imshow(x, cmap=\"gray\")\n",
        "plt.axis(\"off\")"
      ],
      "execution_count": null,
      "outputs": [
        {
          "data": {
            "text/plain": [
              "(-0.5, 329.5, 329.5, -0.5)"
            ]
          },
          "execution_count": 1,
          "metadata": {},
          "output_type": "execute_result"
        },
        {
          "data": {
            "image/png": "[encoded data removed]",
            "text/plain": [
              "<Figure size 432x288 with 1 Axes>"
            ]
          },
          "metadata": {
            "needs_background": "light"
          },
          "output_type": "display_data"
        }
      ]
    },
    {
      "cell_type": "markdown",
      "metadata": {
        "id": "uHzqVBAK6hpu"
      },
      "source": [
        "Blurring can be performed by convolving $n\\times n$ QR-code with the following filter:\n",
        "\n",
        "$$T_{i_1j_1,i_2j_2} = T_{i_1-j_1,i_2-j_2} = \\frac{\\alpha}{\\pi}e^{-\\alpha[(i_1-i_2)^2 + (j_1-j_2)^2]}, \\quad i_1,j_1,i_2,j_2 = 1 \\ldots n, \\quad 1 > \\alpha > 0.$$\n",
        "\n",
        "You know from lectures that this convolution can be viewed as a matrix-vector multiplication of some BTTB matrix $T$ of size $n^2 \\times n^2$."
      ]
    },
    {
      "cell_type": "markdown",
      "metadata": {
        "id": "nQSQVkG86hpu"
      },
      "source": [
        "## Task 1 (15 pts) \n",
        "\n",
        "- Write function `T_matvec()` that performs multiplication of $T$ by a given vector $x$ efficiently. Remember about FFT.\n",
        "- Use `scipy.sparse.linalg.LinearOperator` to create an object that has attribute `.dot()` (this object will be further used in the iterative process). Note that `.dot()` input and output must be 1D vectors, so do not forget to use reshape."
      ]
    },
    {
      "cell_type": "code",
      "metadata": {
        "id": "SKiL6Iky6hpv"
      },
      "source": [
        "# x - 1D vector, shape=n^2\n",
        "def T_matvec(x, aplha):\n",
        "    pass\n",
        "\n",
        "# T = spla.LinearOperator((n**2, n**2), matvec = lambda x : T_matvec(x, alpha))\n",
        "# your code is here"
      ],
      "execution_count": null,
      "outputs": []
    },
    {
      "cell_type": "markdown",
      "metadata": {
        "id": "Vpj3Llkc6hpv"
      },
      "source": [
        "**Remark.** The obtained matrix $T$ is positive definite (at least in the exact arithmetic), hence the conjugate gradient method can be applied to solve with $T$.\n",
        "\n",
        "**Bonus question: Prove the remark above.**"
      ]
    },
    {
      "cell_type": "markdown",
      "metadata": {
        "id": "fyoFYerG6hpw"
      },
      "source": [
        "## Task 2 (10 pts) \n",
        "- For $\\alpha \\in \\{ 0.1, 0.01,0.001\\}$ compute $y=Tx$ and deconvolve $x$ using `scipy.sparse.linalg.cg` with $tol \\in \\{10^{-3}, 10^{-4}, 10^{-5}, 10^{-6}, 10^{-7}\\}$. For each pair $\\alpha$, $tol$ write out `num_iters` and relative error $e = \\frac{\\|x - x^*\\|_2}{\\|x\\|_2}$ .\n",
        "- Comment on the results: \n",
        "\n",
        "    1) why the relative error does not converge to zero? \n",
        "    \n",
        "    2) why the relative error converges to different values for different $\\alpha$?"
      ]
    },
    {
      "cell_type": "code",
      "metadata": {
        "id": "1ZziAoPv6hpw"
      },
      "source": [
        "# your code is here\n",
        "# плохо обусловлена"
      ],
      "execution_count": null,
      "outputs": []
    },
    {
      "cell_type": "markdown",
      "metadata": {
        "id": "lJ4XOLfw6hpx"
      },
      "source": [
        "In all further tasks fix $\\alpha = 0.01$. Compute $y = Tx$, and add vector with Gaussian noise from $\\mathcal{N}(0, 1)$ to $y$ and get the final right-hand side $\\hat{y}$.\n",
        "\n",
        "## Task 3 (10 pts)\n",
        "- Try to deconvolve $\\hat{y}$ with matrix $T$ using $tol=10^{-5}$ in CG. Explain, why CG does not converge.\n",
        "- Suggest how CG can still be used to recover $x$. What are drawbacks of the suggested approach?"
      ]
    },
    {
      "cell_type": "code",
      "metadata": {
        "id": "JzT0Wfzl6hpx"
      },
      "source": [
        "# your code is here"
      ],
      "execution_count": null,
      "outputs": []
    },
    {
      "cell_type": "markdown",
      "metadata": {
        "id": "ez3m0Y-n6hpy"
      },
      "source": [
        "## Task 4 (10 pts)\n",
        "\n",
        "- Implement Tikhonov regularization, i.e. deconvolve $\\hat{y}$ with the perturbed matrix $T_{\\lambda} = T + \\lambda^2I$ instead of $T$. Modify `T_matvec()` according to the template below.\n",
        "- Perform computations for all $\\lambda \\in \\{10, 1, 0.1\\}$ and $tol \\in \\{10^{-3}, 10^{-4}, 10^{-5},10^{-6}, 10^{-7} \\}$. For each pair $(\\lambda, tol)$ write out `num_iters` and relative error $e = \\frac{\\|x - x^*\\|_2}{\\|x\\|_2}$. Comment on the results: \n",
        "    - Compare robustness of the convergence with task 2. What the observed results indicate?"
      ]
    },
    {
      "cell_type": "code",
      "metadata": {
        "id": "IIs9QI7R6hpy"
      },
      "source": [
        "def T_lmbda_matvec(x, aplha, lmbda):\n",
        "    pass\n",
        "\n",
        "# your code is here"
      ],
      "execution_count": null,
      "outputs": []
    },
    {
      "cell_type": "markdown",
      "metadata": {
        "id": "ut0QG1AW6hpy"
      },
      "source": [
        "## Task 5 (20 pts)\n",
        "\n",
        "- Implement BCCB preconditioner for $T_{\\lambda}$ based on Strang preconditioner for Toeplitz matrix (hint: build circulants using first columns of Toeplitz matrices on both levels). You know from lectures that circulants can be explicitly inverted using convolution theorem. Implement the corresponding matvec according to the template provided below.\n",
        "- Check speedup in iterations and runtime that can be gained from the preconditioning for $\\alpha = 0.01$, $\\lambda = 1$ compared with Task 4. Explain results."
      ]
    },
    {
      "cell_type": "code",
      "metadata": {
        "id": "DiJcm6XQ6hpz"
      },
      "source": [
        "def C_inv_matvec(x, alpha, lmbda):\n",
        "    pass\n",
        "\n",
        "# your code is here"
      ],
      "execution_count": null,
      "outputs": []
    }
  ]
}